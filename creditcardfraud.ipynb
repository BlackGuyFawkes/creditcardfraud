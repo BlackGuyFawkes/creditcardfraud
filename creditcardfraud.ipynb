{
 "cells": [
  {
   "cell_type": "markdown",
   "id": "308150fd",
   "metadata": {
    "papermill": {
     "duration": 0.011214,
     "end_time": "2022-09-16T01:46:50.073565",
     "exception": false,
     "start_time": "2022-09-16T01:46:50.062351",
     "status": "completed"
    },
    "tags": []
   },
   "source": [
    "# Part 1- Credit Card Fraud Predictive Analysis\n",
    "## By Maduako Akachi"
   ]
  },
  {
   "cell_type": "code",
   "execution_count": 1,
   "id": "68fec5f3",
   "metadata": {
    "execution": {
     "iopub.execute_input": "2022-09-16T01:46:50.095359Z",
     "iopub.status.busy": "2022-09-16T01:46:50.094878Z",
     "iopub.status.idle": "2022-09-16T01:46:50.106684Z",
     "shell.execute_reply": "2022-09-16T01:46:50.105546Z"
    },
    "papermill": {
     "duration": 0.026098,
     "end_time": "2022-09-16T01:46:50.109342",
     "exception": false,
     "start_time": "2022-09-16T01:46:50.083244",
     "status": "completed"
    },
    "tags": []
   },
   "outputs": [],
   "source": [
    "#Import libraries\n",
    "import numpy as np\n",
    "import pandas as pd\n",
    "import matplotlib.pyplot as plt"
   ]
  },
  {
   "cell_type": "code",
   "execution_count": 2,
   "id": "4eb7445d",
   "metadata": {
    "execution": {
     "iopub.execute_input": "2022-09-16T01:46:50.130579Z",
     "iopub.status.busy": "2022-09-16T01:46:50.130080Z",
     "iopub.status.idle": "2022-09-16T01:47:01.977064Z",
     "shell.execute_reply": "2022-09-16T01:47:01.975749Z"
    },
    "papermill": {
     "duration": 11.860728,
     "end_time": "2022-09-16T01:47:01.979964",
     "exception": false,
     "start_time": "2022-09-16T01:46:50.119236",
     "status": "completed"
    },
    "tags": []
   },
   "outputs": [
    {
     "data": {
      "text/html": [
       "<div>\n",
       "<style scoped>\n",
       "    .dataframe tbody tr th:only-of-type {\n",
       "        vertical-align: middle;\n",
       "    }\n",
       "\n",
       "    .dataframe tbody tr th {\n",
       "        vertical-align: top;\n",
       "    }\n",
       "\n",
       "    .dataframe thead th {\n",
       "        text-align: right;\n",
       "    }\n",
       "</style>\n",
       "<table border=\"1\" class=\"dataframe\">\n",
       "  <thead>\n",
       "    <tr style=\"text-align: right;\">\n",
       "      <th></th>\n",
       "      <th>Unnamed: 0</th>\n",
       "      <th>trans_date_trans_time</th>\n",
       "      <th>cc_num</th>\n",
       "      <th>merchant</th>\n",
       "      <th>category</th>\n",
       "      <th>amt</th>\n",
       "      <th>first</th>\n",
       "      <th>last</th>\n",
       "      <th>gender</th>\n",
       "      <th>street</th>\n",
       "      <th>...</th>\n",
       "      <th>lat</th>\n",
       "      <th>long</th>\n",
       "      <th>city_pop</th>\n",
       "      <th>job</th>\n",
       "      <th>dob</th>\n",
       "      <th>trans_num</th>\n",
       "      <th>unix_time</th>\n",
       "      <th>merch_lat</th>\n",
       "      <th>merch_long</th>\n",
       "      <th>is_fraud</th>\n",
       "    </tr>\n",
       "  </thead>\n",
       "  <tbody>\n",
       "    <tr>\n",
       "      <th>0</th>\n",
       "      <td>0</td>\n",
       "      <td>2019-01-01 00:00:18</td>\n",
       "      <td>2703186189652095</td>\n",
       "      <td>fraud_Rippin, Kub and Mann</td>\n",
       "      <td>misc_net</td>\n",
       "      <td>4.97</td>\n",
       "      <td>Jennifer</td>\n",
       "      <td>Banks</td>\n",
       "      <td>F</td>\n",
       "      <td>561 Perry Cove</td>\n",
       "      <td>...</td>\n",
       "      <td>36.0788</td>\n",
       "      <td>-81.1781</td>\n",
       "      <td>3495</td>\n",
       "      <td>Psychologist, counselling</td>\n",
       "      <td>1988-03-09</td>\n",
       "      <td>0b242abb623afc578575680df30655b9</td>\n",
       "      <td>1325376018</td>\n",
       "      <td>36.011293</td>\n",
       "      <td>-82.048315</td>\n",
       "      <td>0</td>\n",
       "    </tr>\n",
       "    <tr>\n",
       "      <th>1</th>\n",
       "      <td>1</td>\n",
       "      <td>2019-01-01 00:00:44</td>\n",
       "      <td>630423337322</td>\n",
       "      <td>fraud_Heller, Gutmann and Zieme</td>\n",
       "      <td>grocery_pos</td>\n",
       "      <td>107.23</td>\n",
       "      <td>Stephanie</td>\n",
       "      <td>Gill</td>\n",
       "      <td>F</td>\n",
       "      <td>43039 Riley Greens Suite 393</td>\n",
       "      <td>...</td>\n",
       "      <td>48.8878</td>\n",
       "      <td>-118.2105</td>\n",
       "      <td>149</td>\n",
       "      <td>Special educational needs teacher</td>\n",
       "      <td>1978-06-21</td>\n",
       "      <td>1f76529f8574734946361c461b024d99</td>\n",
       "      <td>1325376044</td>\n",
       "      <td>49.159047</td>\n",
       "      <td>-118.186462</td>\n",
       "      <td>0</td>\n",
       "    </tr>\n",
       "    <tr>\n",
       "      <th>2</th>\n",
       "      <td>2</td>\n",
       "      <td>2019-01-01 00:00:51</td>\n",
       "      <td>38859492057661</td>\n",
       "      <td>fraud_Lind-Buckridge</td>\n",
       "      <td>entertainment</td>\n",
       "      <td>220.11</td>\n",
       "      <td>Edward</td>\n",
       "      <td>Sanchez</td>\n",
       "      <td>M</td>\n",
       "      <td>594 White Dale Suite 530</td>\n",
       "      <td>...</td>\n",
       "      <td>42.1808</td>\n",
       "      <td>-112.2620</td>\n",
       "      <td>4154</td>\n",
       "      <td>Nature conservation officer</td>\n",
       "      <td>1962-01-19</td>\n",
       "      <td>a1a22d70485983eac12b5b88dad1cf95</td>\n",
       "      <td>1325376051</td>\n",
       "      <td>43.150704</td>\n",
       "      <td>-112.154481</td>\n",
       "      <td>0</td>\n",
       "    </tr>\n",
       "    <tr>\n",
       "      <th>3</th>\n",
       "      <td>3</td>\n",
       "      <td>2019-01-01 00:01:16</td>\n",
       "      <td>3534093764340240</td>\n",
       "      <td>fraud_Kutch, Hermiston and Farrell</td>\n",
       "      <td>gas_transport</td>\n",
       "      <td>45.00</td>\n",
       "      <td>Jeremy</td>\n",
       "      <td>White</td>\n",
       "      <td>M</td>\n",
       "      <td>9443 Cynthia Court Apt. 038</td>\n",
       "      <td>...</td>\n",
       "      <td>46.2306</td>\n",
       "      <td>-112.1138</td>\n",
       "      <td>1939</td>\n",
       "      <td>Patent attorney</td>\n",
       "      <td>1967-01-12</td>\n",
       "      <td>6b849c168bdad6f867558c3793159a81</td>\n",
       "      <td>1325376076</td>\n",
       "      <td>47.034331</td>\n",
       "      <td>-112.561071</td>\n",
       "      <td>0</td>\n",
       "    </tr>\n",
       "    <tr>\n",
       "      <th>4</th>\n",
       "      <td>4</td>\n",
       "      <td>2019-01-01 00:03:06</td>\n",
       "      <td>375534208663984</td>\n",
       "      <td>fraud_Keeling-Crist</td>\n",
       "      <td>misc_pos</td>\n",
       "      <td>41.96</td>\n",
       "      <td>Tyler</td>\n",
       "      <td>Garcia</td>\n",
       "      <td>M</td>\n",
       "      <td>408 Bradley Rest</td>\n",
       "      <td>...</td>\n",
       "      <td>38.4207</td>\n",
       "      <td>-79.4629</td>\n",
       "      <td>99</td>\n",
       "      <td>Dance movement psychotherapist</td>\n",
       "      <td>1986-03-28</td>\n",
       "      <td>a41d7549acf90789359a9aa5346dcb46</td>\n",
       "      <td>1325376186</td>\n",
       "      <td>38.674999</td>\n",
       "      <td>-78.632459</td>\n",
       "      <td>0</td>\n",
       "    </tr>\n",
       "  </tbody>\n",
       "</table>\n",
       "<p>5 rows × 23 columns</p>\n",
       "</div>"
      ],
      "text/plain": [
       "   Unnamed: 0 trans_date_trans_time            cc_num  \\\n",
       "0           0   2019-01-01 00:00:18  2703186189652095   \n",
       "1           1   2019-01-01 00:00:44      630423337322   \n",
       "2           2   2019-01-01 00:00:51    38859492057661   \n",
       "3           3   2019-01-01 00:01:16  3534093764340240   \n",
       "4           4   2019-01-01 00:03:06   375534208663984   \n",
       "\n",
       "                             merchant       category     amt      first  \\\n",
       "0          fraud_Rippin, Kub and Mann       misc_net    4.97   Jennifer   \n",
       "1     fraud_Heller, Gutmann and Zieme    grocery_pos  107.23  Stephanie   \n",
       "2                fraud_Lind-Buckridge  entertainment  220.11     Edward   \n",
       "3  fraud_Kutch, Hermiston and Farrell  gas_transport   45.00     Jeremy   \n",
       "4                 fraud_Keeling-Crist       misc_pos   41.96      Tyler   \n",
       "\n",
       "      last gender                        street  ...      lat      long  \\\n",
       "0    Banks      F                561 Perry Cove  ...  36.0788  -81.1781   \n",
       "1     Gill      F  43039 Riley Greens Suite 393  ...  48.8878 -118.2105   \n",
       "2  Sanchez      M      594 White Dale Suite 530  ...  42.1808 -112.2620   \n",
       "3    White      M   9443 Cynthia Court Apt. 038  ...  46.2306 -112.1138   \n",
       "4   Garcia      M              408 Bradley Rest  ...  38.4207  -79.4629   \n",
       "\n",
       "   city_pop                                job         dob  \\\n",
       "0      3495          Psychologist, counselling  1988-03-09   \n",
       "1       149  Special educational needs teacher  1978-06-21   \n",
       "2      4154        Nature conservation officer  1962-01-19   \n",
       "3      1939                    Patent attorney  1967-01-12   \n",
       "4        99     Dance movement psychotherapist  1986-03-28   \n",
       "\n",
       "                          trans_num   unix_time  merch_lat  merch_long  \\\n",
       "0  0b242abb623afc578575680df30655b9  1325376018  36.011293  -82.048315   \n",
       "1  1f76529f8574734946361c461b024d99  1325376044  49.159047 -118.186462   \n",
       "2  a1a22d70485983eac12b5b88dad1cf95  1325376051  43.150704 -112.154481   \n",
       "3  6b849c168bdad6f867558c3793159a81  1325376076  47.034331 -112.561071   \n",
       "4  a41d7549acf90789359a9aa5346dcb46  1325376186  38.674999  -78.632459   \n",
       "\n",
       "   is_fraud  \n",
       "0         0  \n",
       "1         0  \n",
       "2         0  \n",
       "3         0  \n",
       "4         0  \n",
       "\n",
       "[5 rows x 23 columns]"
      ]
     },
     "execution_count": 2,
     "metadata": {},
     "output_type": "execute_result"
    }
   ],
   "source": [
    "#Load and read the dataset into panda dataframe\n",
    "\n",
    "train = pd.read_csv('../input/fraud-detection/fraudTrain.csv')\n",
    "train.head()"
   ]
  },
  {
   "cell_type": "code",
   "execution_count": 3,
   "id": "e1e51472",
   "metadata": {
    "execution": {
     "iopub.execute_input": "2022-09-16T01:47:02.001929Z",
     "iopub.status.busy": "2022-09-16T01:47:02.001507Z",
     "iopub.status.idle": "2022-09-16T01:47:02.008549Z",
     "shell.execute_reply": "2022-09-16T01:47:02.007378Z"
    },
    "papermill": {
     "duration": 0.020626,
     "end_time": "2022-09-16T01:47:02.010953",
     "exception": false,
     "start_time": "2022-09-16T01:47:01.990327",
     "status": "completed"
    },
    "tags": []
   },
   "outputs": [
    {
     "data": {
      "text/plain": [
       "(1296675, 23)"
      ]
     },
     "execution_count": 3,
     "metadata": {},
     "output_type": "execute_result"
    }
   ],
   "source": [
    "#Get size of the dataframe\n",
    "train.shape"
   ]
  },
  {
   "cell_type": "code",
   "execution_count": 4,
   "id": "72eec1dc",
   "metadata": {
    "execution": {
     "iopub.execute_input": "2022-09-16T01:47:02.035496Z",
     "iopub.status.busy": "2022-09-16T01:47:02.034342Z",
     "iopub.status.idle": "2022-09-16T01:47:02.162653Z",
     "shell.execute_reply": "2022-09-16T01:47:02.161388Z"
    },
    "papermill": {
     "duration": 0.143472,
     "end_time": "2022-09-16T01:47:02.165643",
     "exception": false,
     "start_time": "2022-09-16T01:47:02.022171",
     "status": "completed"
    },
    "tags": []
   },
   "outputs": [],
   "source": [
    "#Drop irrelevant columns\n",
    "train.drop(['Unnamed: 0', 'cc_num', 'merchant', 'first', 'last', 'street', 'lat', 'long', 'city_pop', 'job', 'trans_num', 'unix_time', 'merch_lat', 'merch_long'], axis=1, inplace=True)"
   ]
  },
  {
   "cell_type": "code",
   "execution_count": 5,
   "id": "864c7d04",
   "metadata": {
    "execution": {
     "iopub.execute_input": "2022-09-16T01:47:02.189650Z",
     "iopub.status.busy": "2022-09-16T01:47:02.188932Z",
     "iopub.status.idle": "2022-09-16T01:47:02.206197Z",
     "shell.execute_reply": "2022-09-16T01:47:02.205094Z"
    },
    "papermill": {
     "duration": 0.031613,
     "end_time": "2022-09-16T01:47:02.208599",
     "exception": false,
     "start_time": "2022-09-16T01:47:02.176986",
     "status": "completed"
    },
    "tags": []
   },
   "outputs": [
    {
     "data": {
      "text/html": [
       "<div>\n",
       "<style scoped>\n",
       "    .dataframe tbody tr th:only-of-type {\n",
       "        vertical-align: middle;\n",
       "    }\n",
       "\n",
       "    .dataframe tbody tr th {\n",
       "        vertical-align: top;\n",
       "    }\n",
       "\n",
       "    .dataframe thead th {\n",
       "        text-align: right;\n",
       "    }\n",
       "</style>\n",
       "<table border=\"1\" class=\"dataframe\">\n",
       "  <thead>\n",
       "    <tr style=\"text-align: right;\">\n",
       "      <th></th>\n",
       "      <th>trans_date_trans_time</th>\n",
       "      <th>category</th>\n",
       "      <th>amt</th>\n",
       "      <th>gender</th>\n",
       "      <th>city</th>\n",
       "      <th>state</th>\n",
       "      <th>zip</th>\n",
       "      <th>dob</th>\n",
       "      <th>is_fraud</th>\n",
       "    </tr>\n",
       "  </thead>\n",
       "  <tbody>\n",
       "    <tr>\n",
       "      <th>0</th>\n",
       "      <td>2019-01-01 00:00:18</td>\n",
       "      <td>misc_net</td>\n",
       "      <td>4.97</td>\n",
       "      <td>F</td>\n",
       "      <td>Moravian Falls</td>\n",
       "      <td>NC</td>\n",
       "      <td>28654</td>\n",
       "      <td>1988-03-09</td>\n",
       "      <td>0</td>\n",
       "    </tr>\n",
       "    <tr>\n",
       "      <th>1</th>\n",
       "      <td>2019-01-01 00:00:44</td>\n",
       "      <td>grocery_pos</td>\n",
       "      <td>107.23</td>\n",
       "      <td>F</td>\n",
       "      <td>Orient</td>\n",
       "      <td>WA</td>\n",
       "      <td>99160</td>\n",
       "      <td>1978-06-21</td>\n",
       "      <td>0</td>\n",
       "    </tr>\n",
       "    <tr>\n",
       "      <th>2</th>\n",
       "      <td>2019-01-01 00:00:51</td>\n",
       "      <td>entertainment</td>\n",
       "      <td>220.11</td>\n",
       "      <td>M</td>\n",
       "      <td>Malad City</td>\n",
       "      <td>ID</td>\n",
       "      <td>83252</td>\n",
       "      <td>1962-01-19</td>\n",
       "      <td>0</td>\n",
       "    </tr>\n",
       "    <tr>\n",
       "      <th>3</th>\n",
       "      <td>2019-01-01 00:01:16</td>\n",
       "      <td>gas_transport</td>\n",
       "      <td>45.00</td>\n",
       "      <td>M</td>\n",
       "      <td>Boulder</td>\n",
       "      <td>MT</td>\n",
       "      <td>59632</td>\n",
       "      <td>1967-01-12</td>\n",
       "      <td>0</td>\n",
       "    </tr>\n",
       "    <tr>\n",
       "      <th>4</th>\n",
       "      <td>2019-01-01 00:03:06</td>\n",
       "      <td>misc_pos</td>\n",
       "      <td>41.96</td>\n",
       "      <td>M</td>\n",
       "      <td>Doe Hill</td>\n",
       "      <td>VA</td>\n",
       "      <td>24433</td>\n",
       "      <td>1986-03-28</td>\n",
       "      <td>0</td>\n",
       "    </tr>\n",
       "  </tbody>\n",
       "</table>\n",
       "</div>"
      ],
      "text/plain": [
       "  trans_date_trans_time       category     amt gender            city state  \\\n",
       "0   2019-01-01 00:00:18       misc_net    4.97      F  Moravian Falls    NC   \n",
       "1   2019-01-01 00:00:44    grocery_pos  107.23      F          Orient    WA   \n",
       "2   2019-01-01 00:00:51  entertainment  220.11      M      Malad City    ID   \n",
       "3   2019-01-01 00:01:16  gas_transport   45.00      M         Boulder    MT   \n",
       "4   2019-01-01 00:03:06       misc_pos   41.96      M        Doe Hill    VA   \n",
       "\n",
       "     zip         dob  is_fraud  \n",
       "0  28654  1988-03-09         0  \n",
       "1  99160  1978-06-21         0  \n",
       "2  83252  1962-01-19         0  \n",
       "3  59632  1967-01-12         0  \n",
       "4  24433  1986-03-28         0  "
      ]
     },
     "execution_count": 5,
     "metadata": {},
     "output_type": "execute_result"
    }
   ],
   "source": [
    "train.head()"
   ]
  },
  {
   "cell_type": "code",
   "execution_count": 6,
   "id": "8c906af0",
   "metadata": {
    "execution": {
     "iopub.execute_input": "2022-09-16T01:47:02.231859Z",
     "iopub.status.busy": "2022-09-16T01:47:02.230747Z",
     "iopub.status.idle": "2022-09-16T01:47:02.583979Z",
     "shell.execute_reply": "2022-09-16T01:47:02.582801Z"
    },
    "papermill": {
     "duration": 0.367433,
     "end_time": "2022-09-16T01:47:02.586670",
     "exception": false,
     "start_time": "2022-09-16T01:47:02.219237",
     "status": "completed"
    },
    "tags": []
   },
   "outputs": [
    {
     "name": "stdout",
     "output_type": "stream",
     "text": [
      "<class 'pandas.core.frame.DataFrame'>\n",
      "RangeIndex: 1296675 entries, 0 to 1296674\n",
      "Data columns (total 9 columns):\n",
      " #   Column                 Non-Null Count    Dtype  \n",
      "---  ------                 --------------    -----  \n",
      " 0   trans_date_trans_time  1296675 non-null  object \n",
      " 1   category               1296675 non-null  object \n",
      " 2   amt                    1296675 non-null  float64\n",
      " 3   gender                 1296675 non-null  object \n",
      " 4   city                   1296675 non-null  object \n",
      " 5   state                  1296675 non-null  object \n",
      " 6   zip                    1296675 non-null  int64  \n",
      " 7   dob                    1296675 non-null  object \n",
      " 8   is_fraud               1296675 non-null  int64  \n",
      "dtypes: float64(1), int64(2), object(6)\n",
      "memory usage: 89.0+ MB\n"
     ]
    }
   ],
   "source": [
    "train.info()"
   ]
  },
  {
   "cell_type": "code",
   "execution_count": 7,
   "id": "200c03df",
   "metadata": {
    "execution": {
     "iopub.execute_input": "2022-09-16T01:47:02.610339Z",
     "iopub.status.busy": "2022-09-16T01:47:02.609146Z",
     "iopub.status.idle": "2022-09-16T01:47:02.776923Z",
     "shell.execute_reply": "2022-09-16T01:47:02.775766Z"
    },
    "papermill": {
     "duration": 0.182079,
     "end_time": "2022-09-16T01:47:02.779418",
     "exception": false,
     "start_time": "2022-09-16T01:47:02.597339",
     "status": "completed"
    },
    "tags": []
   },
   "outputs": [
    {
     "data": {
      "text/html": [
       "<div>\n",
       "<style scoped>\n",
       "    .dataframe tbody tr th:only-of-type {\n",
       "        vertical-align: middle;\n",
       "    }\n",
       "\n",
       "    .dataframe tbody tr th {\n",
       "        vertical-align: top;\n",
       "    }\n",
       "\n",
       "    .dataframe thead th {\n",
       "        text-align: right;\n",
       "    }\n",
       "</style>\n",
       "<table border=\"1\" class=\"dataframe\">\n",
       "  <thead>\n",
       "    <tr style=\"text-align: right;\">\n",
       "      <th></th>\n",
       "      <th>amt</th>\n",
       "      <th>zip</th>\n",
       "      <th>is_fraud</th>\n",
       "    </tr>\n",
       "  </thead>\n",
       "  <tbody>\n",
       "    <tr>\n",
       "      <th>count</th>\n",
       "      <td>1.296675e+06</td>\n",
       "      <td>1.296675e+06</td>\n",
       "      <td>1.296675e+06</td>\n",
       "    </tr>\n",
       "    <tr>\n",
       "      <th>mean</th>\n",
       "      <td>7.035104e+01</td>\n",
       "      <td>4.880067e+04</td>\n",
       "      <td>5.788652e-03</td>\n",
       "    </tr>\n",
       "    <tr>\n",
       "      <th>std</th>\n",
       "      <td>1.603160e+02</td>\n",
       "      <td>2.689322e+04</td>\n",
       "      <td>7.586269e-02</td>\n",
       "    </tr>\n",
       "    <tr>\n",
       "      <th>min</th>\n",
       "      <td>1.000000e+00</td>\n",
       "      <td>1.257000e+03</td>\n",
       "      <td>0.000000e+00</td>\n",
       "    </tr>\n",
       "    <tr>\n",
       "      <th>25%</th>\n",
       "      <td>9.650000e+00</td>\n",
       "      <td>2.623700e+04</td>\n",
       "      <td>0.000000e+00</td>\n",
       "    </tr>\n",
       "    <tr>\n",
       "      <th>50%</th>\n",
       "      <td>4.752000e+01</td>\n",
       "      <td>4.817400e+04</td>\n",
       "      <td>0.000000e+00</td>\n",
       "    </tr>\n",
       "    <tr>\n",
       "      <th>75%</th>\n",
       "      <td>8.314000e+01</td>\n",
       "      <td>7.204200e+04</td>\n",
       "      <td>0.000000e+00</td>\n",
       "    </tr>\n",
       "    <tr>\n",
       "      <th>max</th>\n",
       "      <td>2.894890e+04</td>\n",
       "      <td>9.978300e+04</td>\n",
       "      <td>1.000000e+00</td>\n",
       "    </tr>\n",
       "  </tbody>\n",
       "</table>\n",
       "</div>"
      ],
      "text/plain": [
       "                amt           zip      is_fraud\n",
       "count  1.296675e+06  1.296675e+06  1.296675e+06\n",
       "mean   7.035104e+01  4.880067e+04  5.788652e-03\n",
       "std    1.603160e+02  2.689322e+04  7.586269e-02\n",
       "min    1.000000e+00  1.257000e+03  0.000000e+00\n",
       "25%    9.650000e+00  2.623700e+04  0.000000e+00\n",
       "50%    4.752000e+01  4.817400e+04  0.000000e+00\n",
       "75%    8.314000e+01  7.204200e+04  0.000000e+00\n",
       "max    2.894890e+04  9.978300e+04  1.000000e+00"
      ]
     },
     "execution_count": 7,
     "metadata": {},
     "output_type": "execute_result"
    }
   ],
   "source": [
    "#Get statistical information about the dataframe\n",
    "train.describe()"
   ]
  },
  {
   "cell_type": "code",
   "execution_count": 8,
   "id": "d9967d46",
   "metadata": {
    "execution": {
     "iopub.execute_input": "2022-09-16T01:47:02.802450Z",
     "iopub.status.busy": "2022-09-16T01:47:02.802049Z",
     "iopub.status.idle": "2022-09-16T01:47:03.142077Z",
     "shell.execute_reply": "2022-09-16T01:47:03.140932Z"
    },
    "papermill": {
     "duration": 0.354582,
     "end_time": "2022-09-16T01:47:03.144679",
     "exception": false,
     "start_time": "2022-09-16T01:47:02.790097",
     "status": "completed"
    },
    "tags": []
   },
   "outputs": [
    {
     "data": {
      "text/plain": [
       "trans_date_trans_time    0\n",
       "category                 0\n",
       "amt                      0\n",
       "gender                   0\n",
       "city                     0\n",
       "state                    0\n",
       "zip                      0\n",
       "dob                      0\n",
       "is_fraud                 0\n",
       "dtype: int64"
      ]
     },
     "execution_count": 8,
     "metadata": {},
     "output_type": "execute_result"
    }
   ],
   "source": [
    "#Check for missing values for train\n",
    "train.isnull().sum()"
   ]
  },
  {
   "cell_type": "code",
   "execution_count": 9,
   "id": "d92667eb",
   "metadata": {
    "execution": {
     "iopub.execute_input": "2022-09-16T01:47:03.167917Z",
     "iopub.status.busy": "2022-09-16T01:47:03.167499Z",
     "iopub.status.idle": "2022-09-16T01:47:03.512519Z",
     "shell.execute_reply": "2022-09-16T01:47:03.511254Z"
    },
    "papermill": {
     "duration": 0.359966,
     "end_time": "2022-09-16T01:47:03.515405",
     "exception": false,
     "start_time": "2022-09-16T01:47:03.155439",
     "status": "completed"
    },
    "tags": []
   },
   "outputs": [],
   "source": [
    "#Change format of trans_date_trans_time for better readability\n",
    "train['trans_date_trans_time'] = pd.to_datetime(train['trans_date_trans_time'])"
   ]
  },
  {
   "cell_type": "code",
   "execution_count": 10,
   "id": "d0f71a40",
   "metadata": {
    "execution": {
     "iopub.execute_input": "2022-09-16T01:47:03.538883Z",
     "iopub.status.busy": "2022-09-16T01:47:03.538409Z",
     "iopub.status.idle": "2022-09-16T01:47:03.855246Z",
     "shell.execute_reply": "2022-09-16T01:47:03.854141Z"
    },
    "papermill": {
     "duration": 0.332016,
     "end_time": "2022-09-16T01:47:03.858270",
     "exception": false,
     "start_time": "2022-09-16T01:47:03.526254",
     "status": "completed"
    },
    "tags": []
   },
   "outputs": [],
   "source": [
    "train['dob'] = pd.to_datetime(train['dob'], errors='coerce')"
   ]
  },
  {
   "cell_type": "code",
   "execution_count": 11,
   "id": "886f2814",
   "metadata": {
    "execution": {
     "iopub.execute_input": "2022-09-16T01:47:03.882401Z",
     "iopub.status.busy": "2022-09-16T01:47:03.881988Z",
     "iopub.status.idle": "2022-09-16T01:47:03.950591Z",
     "shell.execute_reply": "2022-09-16T01:47:03.949387Z"
    },
    "papermill": {
     "duration": 0.083994,
     "end_time": "2022-09-16T01:47:03.953493",
     "exception": false,
     "start_time": "2022-09-16T01:47:03.869499",
     "status": "completed"
    },
    "tags": []
   },
   "outputs": [],
   "source": [
    "#convert values in dob column to a more suitable format in  a new column named age\n",
    "from datetime import datetime\n",
    "\n",
    "train['age']=(datetime.today()-train['dob']).dt.days/365.25\n",
    "train['age']=train['age'].astype(int)"
   ]
  },
  {
   "cell_type": "code",
   "execution_count": 12,
   "id": "b2f9164d",
   "metadata": {
    "execution": {
     "iopub.execute_input": "2022-09-16T01:47:03.977475Z",
     "iopub.status.busy": "2022-09-16T01:47:03.977065Z",
     "iopub.status.idle": "2022-09-16T01:47:04.100340Z",
     "shell.execute_reply": "2022-09-16T01:47:04.098975Z"
    },
    "papermill": {
     "duration": 0.138955,
     "end_time": "2022-09-16T01:47:04.103308",
     "exception": false,
     "start_time": "2022-09-16T01:47:03.964353",
     "status": "completed"
    },
    "tags": []
   },
   "outputs": [],
   "source": [
    "#Drop the dob column\n",
    "train.drop(['dob'], axis=1, inplace=True)"
   ]
  },
  {
   "cell_type": "code",
   "execution_count": 13,
   "id": "81409bb1",
   "metadata": {
    "execution": {
     "iopub.execute_input": "2022-09-16T01:47:04.126981Z",
     "iopub.status.busy": "2022-09-16T01:47:04.126559Z",
     "iopub.status.idle": "2022-09-16T01:47:04.143236Z",
     "shell.execute_reply": "2022-09-16T01:47:04.142112Z"
    },
    "papermill": {
     "duration": 0.031406,
     "end_time": "2022-09-16T01:47:04.145644",
     "exception": false,
     "start_time": "2022-09-16T01:47:04.114238",
     "status": "completed"
    },
    "tags": []
   },
   "outputs": [
    {
     "data": {
      "text/html": [
       "<div>\n",
       "<style scoped>\n",
       "    .dataframe tbody tr th:only-of-type {\n",
       "        vertical-align: middle;\n",
       "    }\n",
       "\n",
       "    .dataframe tbody tr th {\n",
       "        vertical-align: top;\n",
       "    }\n",
       "\n",
       "    .dataframe thead th {\n",
       "        text-align: right;\n",
       "    }\n",
       "</style>\n",
       "<table border=\"1\" class=\"dataframe\">\n",
       "  <thead>\n",
       "    <tr style=\"text-align: right;\">\n",
       "      <th></th>\n",
       "      <th>trans_date_trans_time</th>\n",
       "      <th>category</th>\n",
       "      <th>amt</th>\n",
       "      <th>gender</th>\n",
       "      <th>city</th>\n",
       "      <th>state</th>\n",
       "      <th>zip</th>\n",
       "      <th>is_fraud</th>\n",
       "      <th>age</th>\n",
       "    </tr>\n",
       "  </thead>\n",
       "  <tbody>\n",
       "    <tr>\n",
       "      <th>0</th>\n",
       "      <td>2019-01-01 00:00:18</td>\n",
       "      <td>misc_net</td>\n",
       "      <td>4.97</td>\n",
       "      <td>F</td>\n",
       "      <td>Moravian Falls</td>\n",
       "      <td>NC</td>\n",
       "      <td>28654</td>\n",
       "      <td>0</td>\n",
       "      <td>34</td>\n",
       "    </tr>\n",
       "    <tr>\n",
       "      <th>1</th>\n",
       "      <td>2019-01-01 00:00:44</td>\n",
       "      <td>grocery_pos</td>\n",
       "      <td>107.23</td>\n",
       "      <td>F</td>\n",
       "      <td>Orient</td>\n",
       "      <td>WA</td>\n",
       "      <td>99160</td>\n",
       "      <td>0</td>\n",
       "      <td>44</td>\n",
       "    </tr>\n",
       "    <tr>\n",
       "      <th>2</th>\n",
       "      <td>2019-01-01 00:00:51</td>\n",
       "      <td>entertainment</td>\n",
       "      <td>220.11</td>\n",
       "      <td>M</td>\n",
       "      <td>Malad City</td>\n",
       "      <td>ID</td>\n",
       "      <td>83252</td>\n",
       "      <td>0</td>\n",
       "      <td>60</td>\n",
       "    </tr>\n",
       "    <tr>\n",
       "      <th>3</th>\n",
       "      <td>2019-01-01 00:01:16</td>\n",
       "      <td>gas_transport</td>\n",
       "      <td>45.00</td>\n",
       "      <td>M</td>\n",
       "      <td>Boulder</td>\n",
       "      <td>MT</td>\n",
       "      <td>59632</td>\n",
       "      <td>0</td>\n",
       "      <td>55</td>\n",
       "    </tr>\n",
       "    <tr>\n",
       "      <th>4</th>\n",
       "      <td>2019-01-01 00:03:06</td>\n",
       "      <td>misc_pos</td>\n",
       "      <td>41.96</td>\n",
       "      <td>M</td>\n",
       "      <td>Doe Hill</td>\n",
       "      <td>VA</td>\n",
       "      <td>24433</td>\n",
       "      <td>0</td>\n",
       "      <td>36</td>\n",
       "    </tr>\n",
       "  </tbody>\n",
       "</table>\n",
       "</div>"
      ],
      "text/plain": [
       "  trans_date_trans_time       category     amt gender            city state  \\\n",
       "0   2019-01-01 00:00:18       misc_net    4.97      F  Moravian Falls    NC   \n",
       "1   2019-01-01 00:00:44    grocery_pos  107.23      F          Orient    WA   \n",
       "2   2019-01-01 00:00:51  entertainment  220.11      M      Malad City    ID   \n",
       "3   2019-01-01 00:01:16  gas_transport   45.00      M         Boulder    MT   \n",
       "4   2019-01-01 00:03:06       misc_pos   41.96      M        Doe Hill    VA   \n",
       "\n",
       "     zip  is_fraud  age  \n",
       "0  28654         0   34  \n",
       "1  99160         0   44  \n",
       "2  83252         0   60  \n",
       "3  59632         0   55  \n",
       "4  24433         0   36  "
      ]
     },
     "execution_count": 13,
     "metadata": {},
     "output_type": "execute_result"
    }
   ],
   "source": [
    "train.head()"
   ]
  },
  {
   "cell_type": "code",
   "execution_count": 14,
   "id": "af15ad42",
   "metadata": {
    "execution": {
     "iopub.execute_input": "2022-09-16T01:47:04.169628Z",
     "iopub.status.busy": "2022-09-16T01:47:04.169224Z",
     "iopub.status.idle": "2022-09-16T01:47:04.290062Z",
     "shell.execute_reply": "2022-09-16T01:47:04.288975Z"
    },
    "papermill": {
     "duration": 0.136169,
     "end_time": "2022-09-16T01:47:04.292949",
     "exception": false,
     "start_time": "2022-09-16T01:47:04.156780",
     "status": "completed"
    },
    "tags": []
   },
   "outputs": [
    {
     "data": {
      "text/html": [
       "<div>\n",
       "<style scoped>\n",
       "    .dataframe tbody tr th:only-of-type {\n",
       "        vertical-align: middle;\n",
       "    }\n",
       "\n",
       "    .dataframe tbody tr th {\n",
       "        vertical-align: top;\n",
       "    }\n",
       "\n",
       "    .dataframe thead th {\n",
       "        text-align: right;\n",
       "    }\n",
       "</style>\n",
       "<table border=\"1\" class=\"dataframe\">\n",
       "  <thead>\n",
       "    <tr style=\"text-align: right;\">\n",
       "      <th></th>\n",
       "      <th>trans_date_trans_time</th>\n",
       "      <th>category</th>\n",
       "      <th>amt</th>\n",
       "      <th>gender</th>\n",
       "      <th>city</th>\n",
       "      <th>state</th>\n",
       "      <th>zip</th>\n",
       "      <th>is_fraud</th>\n",
       "      <th>age</th>\n",
       "    </tr>\n",
       "  </thead>\n",
       "  <tbody>\n",
       "    <tr>\n",
       "      <th>2449</th>\n",
       "      <td>2019-01-02 01:06:37</td>\n",
       "      <td>grocery_pos</td>\n",
       "      <td>281.06</td>\n",
       "      <td>M</td>\n",
       "      <td>Collettsville</td>\n",
       "      <td>NC</td>\n",
       "      <td>28611</td>\n",
       "      <td>1</td>\n",
       "      <td>34</td>\n",
       "    </tr>\n",
       "    <tr>\n",
       "      <th>2546</th>\n",
       "      <td>2019-01-02 03:38:03</td>\n",
       "      <td>gas_transport</td>\n",
       "      <td>7.03</td>\n",
       "      <td>M</td>\n",
       "      <td>Collettsville</td>\n",
       "      <td>NC</td>\n",
       "      <td>28611</td>\n",
       "      <td>1</td>\n",
       "      <td>34</td>\n",
       "    </tr>\n",
       "    <tr>\n",
       "      <th>2937</th>\n",
       "      <td>2019-01-02 13:38:08</td>\n",
       "      <td>shopping_net</td>\n",
       "      <td>844.80</td>\n",
       "      <td>M</td>\n",
       "      <td>Collettsville</td>\n",
       "      <td>NC</td>\n",
       "      <td>28611</td>\n",
       "      <td>1</td>\n",
       "      <td>34</td>\n",
       "    </tr>\n",
       "    <tr>\n",
       "      <th>3527</th>\n",
       "      <td>2019-01-02 23:52:08</td>\n",
       "      <td>misc_net</td>\n",
       "      <td>843.91</td>\n",
       "      <td>M</td>\n",
       "      <td>Collettsville</td>\n",
       "      <td>NC</td>\n",
       "      <td>28611</td>\n",
       "      <td>1</td>\n",
       "      <td>34</td>\n",
       "    </tr>\n",
       "    <tr>\n",
       "      <th>4654</th>\n",
       "      <td>2019-01-03 22:21:15</td>\n",
       "      <td>shopping_net</td>\n",
       "      <td>942.62</td>\n",
       "      <td>M</td>\n",
       "      <td>Collettsville</td>\n",
       "      <td>NC</td>\n",
       "      <td>28611</td>\n",
       "      <td>1</td>\n",
       "      <td>34</td>\n",
       "    </tr>\n",
       "    <tr>\n",
       "      <th>...</th>\n",
       "      <td>...</td>\n",
       "      <td>...</td>\n",
       "      <td>...</td>\n",
       "      <td>...</td>\n",
       "      <td>...</td>\n",
       "      <td>...</td>\n",
       "      <td>...</td>\n",
       "      <td>...</td>\n",
       "      <td>...</td>\n",
       "    </tr>\n",
       "    <tr>\n",
       "      <th>1295103</th>\n",
       "      <td>2020-06-20 22:28:18</td>\n",
       "      <td>misc_net</td>\n",
       "      <td>735.19</td>\n",
       "      <td>M</td>\n",
       "      <td>Benton</td>\n",
       "      <td>WI</td>\n",
       "      <td>53803</td>\n",
       "      <td>1</td>\n",
       "      <td>64</td>\n",
       "    </tr>\n",
       "    <tr>\n",
       "      <th>1295219</th>\n",
       "      <td>2020-06-20 23:17:07</td>\n",
       "      <td>grocery_pos</td>\n",
       "      <td>307.71</td>\n",
       "      <td>M</td>\n",
       "      <td>Benton</td>\n",
       "      <td>WI</td>\n",
       "      <td>53803</td>\n",
       "      <td>1</td>\n",
       "      <td>64</td>\n",
       "    </tr>\n",
       "    <tr>\n",
       "      <th>1295274</th>\n",
       "      <td>2020-06-20 23:40:26</td>\n",
       "      <td>misc_net</td>\n",
       "      <td>725.60</td>\n",
       "      <td>M</td>\n",
       "      <td>Benton</td>\n",
       "      <td>WI</td>\n",
       "      <td>53803</td>\n",
       "      <td>1</td>\n",
       "      <td>64</td>\n",
       "    </tr>\n",
       "    <tr>\n",
       "      <th>1295532</th>\n",
       "      <td>2020-06-21 02:16:56</td>\n",
       "      <td>gas_transport</td>\n",
       "      <td>10.24</td>\n",
       "      <td>M</td>\n",
       "      <td>Denham Springs</td>\n",
       "      <td>LA</td>\n",
       "      <td>70726</td>\n",
       "      <td>1</td>\n",
       "      <td>28</td>\n",
       "    </tr>\n",
       "    <tr>\n",
       "      <th>1295733</th>\n",
       "      <td>2020-06-21 03:59:46</td>\n",
       "      <td>gas_transport</td>\n",
       "      <td>10.20</td>\n",
       "      <td>M</td>\n",
       "      <td>Denham Springs</td>\n",
       "      <td>LA</td>\n",
       "      <td>70726</td>\n",
       "      <td>1</td>\n",
       "      <td>28</td>\n",
       "    </tr>\n",
       "  </tbody>\n",
       "</table>\n",
       "<p>3771 rows × 9 columns</p>\n",
       "</div>"
      ],
      "text/plain": [
       "        trans_date_trans_time       category     amt gender            city  \\\n",
       "2449      2019-01-02 01:06:37    grocery_pos  281.06      M   Collettsville   \n",
       "2546      2019-01-02 03:38:03  gas_transport    7.03      M   Collettsville   \n",
       "2937      2019-01-02 13:38:08   shopping_net  844.80      M   Collettsville   \n",
       "3527      2019-01-02 23:52:08       misc_net  843.91      M   Collettsville   \n",
       "4654      2019-01-03 22:21:15   shopping_net  942.62      M   Collettsville   \n",
       "...                       ...            ...     ...    ...             ...   \n",
       "1295103   2020-06-20 22:28:18       misc_net  735.19      M          Benton   \n",
       "1295219   2020-06-20 23:17:07    grocery_pos  307.71      M          Benton   \n",
       "1295274   2020-06-20 23:40:26       misc_net  725.60      M          Benton   \n",
       "1295532   2020-06-21 02:16:56  gas_transport   10.24      M  Denham Springs   \n",
       "1295733   2020-06-21 03:59:46  gas_transport   10.20      M  Denham Springs   \n",
       "\n",
       "        state    zip  is_fraud  age  \n",
       "2449       NC  28611         1   34  \n",
       "2546       NC  28611         1   34  \n",
       "2937       NC  28611         1   34  \n",
       "3527       NC  28611         1   34  \n",
       "4654       NC  28611         1   34  \n",
       "...       ...    ...       ...  ...  \n",
       "1295103    WI  53803         1   64  \n",
       "1295219    WI  53803         1   64  \n",
       "1295274    WI  53803         1   64  \n",
       "1295532    LA  70726         1   28  \n",
       "1295733    LA  70726         1   28  \n",
       "\n",
       "[3771 rows x 9 columns]"
      ]
     },
     "execution_count": 14,
     "metadata": {},
     "output_type": "execute_result"
    }
   ],
   "source": [
    "train[(train['gender'] == 'M') & (train['is_fraud'] ==1)]"
   ]
  },
  {
   "cell_type": "code",
   "execution_count": 15,
   "id": "5dae4473",
   "metadata": {
    "execution": {
     "iopub.execute_input": "2022-09-16T01:47:04.317821Z",
     "iopub.status.busy": "2022-09-16T01:47:04.317347Z",
     "iopub.status.idle": "2022-09-16T01:47:04.430967Z",
     "shell.execute_reply": "2022-09-16T01:47:04.429767Z"
    },
    "papermill": {
     "duration": 0.128833,
     "end_time": "2022-09-16T01:47:04.433337",
     "exception": false,
     "start_time": "2022-09-16T01:47:04.304504",
     "status": "completed"
    },
    "tags": []
   },
   "outputs": [
    {
     "data": {
      "text/html": [
       "<div>\n",
       "<style scoped>\n",
       "    .dataframe tbody tr th:only-of-type {\n",
       "        vertical-align: middle;\n",
       "    }\n",
       "\n",
       "    .dataframe tbody tr th {\n",
       "        vertical-align: top;\n",
       "    }\n",
       "\n",
       "    .dataframe thead th {\n",
       "        text-align: right;\n",
       "    }\n",
       "</style>\n",
       "<table border=\"1\" class=\"dataframe\">\n",
       "  <thead>\n",
       "    <tr style=\"text-align: right;\">\n",
       "      <th></th>\n",
       "      <th>trans_date_trans_time</th>\n",
       "      <th>category</th>\n",
       "      <th>amt</th>\n",
       "      <th>gender</th>\n",
       "      <th>city</th>\n",
       "      <th>state</th>\n",
       "      <th>zip</th>\n",
       "      <th>is_fraud</th>\n",
       "      <th>age</th>\n",
       "    </tr>\n",
       "  </thead>\n",
       "  <tbody>\n",
       "    <tr>\n",
       "      <th>2472</th>\n",
       "      <td>2019-01-02 01:47:29</td>\n",
       "      <td>gas_transport</td>\n",
       "      <td>11.52</td>\n",
       "      <td>F</td>\n",
       "      <td>San Antonio</td>\n",
       "      <td>TX</td>\n",
       "      <td>78208</td>\n",
       "      <td>1</td>\n",
       "      <td>61</td>\n",
       "    </tr>\n",
       "    <tr>\n",
       "      <th>2523</th>\n",
       "      <td>2019-01-02 03:05:23</td>\n",
       "      <td>grocery_pos</td>\n",
       "      <td>276.31</td>\n",
       "      <td>F</td>\n",
       "      <td>San Antonio</td>\n",
       "      <td>TX</td>\n",
       "      <td>78208</td>\n",
       "      <td>1</td>\n",
       "      <td>61</td>\n",
       "    </tr>\n",
       "    <tr>\n",
       "      <th>2553</th>\n",
       "      <td>2019-01-02 03:55:47</td>\n",
       "      <td>grocery_pos</td>\n",
       "      <td>275.73</td>\n",
       "      <td>F</td>\n",
       "      <td>San Antonio</td>\n",
       "      <td>TX</td>\n",
       "      <td>78208</td>\n",
       "      <td>1</td>\n",
       "      <td>61</td>\n",
       "    </tr>\n",
       "    <tr>\n",
       "      <th>3580</th>\n",
       "      <td>2019-01-03 01:05:27</td>\n",
       "      <td>gas_transport</td>\n",
       "      <td>10.76</td>\n",
       "      <td>F</td>\n",
       "      <td>San Antonio</td>\n",
       "      <td>TX</td>\n",
       "      <td>78208</td>\n",
       "      <td>1</td>\n",
       "      <td>61</td>\n",
       "    </tr>\n",
       "    <tr>\n",
       "      <th>3600</th>\n",
       "      <td>2019-01-03 01:35:52</td>\n",
       "      <td>grocery_pos</td>\n",
       "      <td>332.35</td>\n",
       "      <td>F</td>\n",
       "      <td>San Antonio</td>\n",
       "      <td>TX</td>\n",
       "      <td>78208</td>\n",
       "      <td>1</td>\n",
       "      <td>61</td>\n",
       "    </tr>\n",
       "    <tr>\n",
       "      <th>...</th>\n",
       "      <td>...</td>\n",
       "      <td>...</td>\n",
       "      <td>...</td>\n",
       "      <td>...</td>\n",
       "      <td>...</td>\n",
       "      <td>...</td>\n",
       "      <td>...</td>\n",
       "      <td>...</td>\n",
       "      <td>...</td>\n",
       "    </tr>\n",
       "    <tr>\n",
       "      <th>1295314</th>\n",
       "      <td>2020-06-21 00:05:03</td>\n",
       "      <td>grocery_net</td>\n",
       "      <td>15.87</td>\n",
       "      <td>F</td>\n",
       "      <td>Notrees</td>\n",
       "      <td>TX</td>\n",
       "      <td>79759</td>\n",
       "      <td>1</td>\n",
       "      <td>53</td>\n",
       "    </tr>\n",
       "    <tr>\n",
       "      <th>1295315</th>\n",
       "      <td>2020-06-21 00:07:09</td>\n",
       "      <td>misc_pos</td>\n",
       "      <td>9.18</td>\n",
       "      <td>F</td>\n",
       "      <td>Vero Beach</td>\n",
       "      <td>FL</td>\n",
       "      <td>32960</td>\n",
       "      <td>1</td>\n",
       "      <td>36</td>\n",
       "    </tr>\n",
       "    <tr>\n",
       "      <th>1295399</th>\n",
       "      <td>2020-06-21 01:00:08</td>\n",
       "      <td>shopping_net</td>\n",
       "      <td>977.01</td>\n",
       "      <td>F</td>\n",
       "      <td>Vero Beach</td>\n",
       "      <td>FL</td>\n",
       "      <td>32960</td>\n",
       "      <td>1</td>\n",
       "      <td>36</td>\n",
       "    </tr>\n",
       "    <tr>\n",
       "      <th>1295491</th>\n",
       "      <td>2020-06-21 01:53:35</td>\n",
       "      <td>shopping_net</td>\n",
       "      <td>1210.91</td>\n",
       "      <td>F</td>\n",
       "      <td>Vero Beach</td>\n",
       "      <td>FL</td>\n",
       "      <td>32960</td>\n",
       "      <td>1</td>\n",
       "      <td>36</td>\n",
       "    </tr>\n",
       "    <tr>\n",
       "      <th>1295666</th>\n",
       "      <td>2020-06-21 03:26:20</td>\n",
       "      <td>gas_transport</td>\n",
       "      <td>21.69</td>\n",
       "      <td>F</td>\n",
       "      <td>Notrees</td>\n",
       "      <td>TX</td>\n",
       "      <td>79759</td>\n",
       "      <td>1</td>\n",
       "      <td>53</td>\n",
       "    </tr>\n",
       "  </tbody>\n",
       "</table>\n",
       "<p>3735 rows × 9 columns</p>\n",
       "</div>"
      ],
      "text/plain": [
       "        trans_date_trans_time       category      amt gender         city  \\\n",
       "2472      2019-01-02 01:47:29  gas_transport    11.52      F  San Antonio   \n",
       "2523      2019-01-02 03:05:23    grocery_pos   276.31      F  San Antonio   \n",
       "2553      2019-01-02 03:55:47    grocery_pos   275.73      F  San Antonio   \n",
       "3580      2019-01-03 01:05:27  gas_transport    10.76      F  San Antonio   \n",
       "3600      2019-01-03 01:35:52    grocery_pos   332.35      F  San Antonio   \n",
       "...                       ...            ...      ...    ...          ...   \n",
       "1295314   2020-06-21 00:05:03    grocery_net    15.87      F      Notrees   \n",
       "1295315   2020-06-21 00:07:09       misc_pos     9.18      F   Vero Beach   \n",
       "1295399   2020-06-21 01:00:08   shopping_net   977.01      F   Vero Beach   \n",
       "1295491   2020-06-21 01:53:35   shopping_net  1210.91      F   Vero Beach   \n",
       "1295666   2020-06-21 03:26:20  gas_transport    21.69      F      Notrees   \n",
       "\n",
       "        state    zip  is_fraud  age  \n",
       "2472       TX  78208         1   61  \n",
       "2523       TX  78208         1   61  \n",
       "2553       TX  78208         1   61  \n",
       "3580       TX  78208         1   61  \n",
       "3600       TX  78208         1   61  \n",
       "...       ...    ...       ...  ...  \n",
       "1295314    TX  79759         1   53  \n",
       "1295315    FL  32960         1   36  \n",
       "1295399    FL  32960         1   36  \n",
       "1295491    FL  32960         1   36  \n",
       "1295666    TX  79759         1   53  \n",
       "\n",
       "[3735 rows x 9 columns]"
      ]
     },
     "execution_count": 15,
     "metadata": {},
     "output_type": "execute_result"
    }
   ],
   "source": [
    "train[(train['gender'] == 'F') & (train['is_fraud'] ==1)]"
   ]
  },
  {
   "cell_type": "code",
   "execution_count": 16,
   "id": "68fbf672",
   "metadata": {
    "execution": {
     "iopub.execute_input": "2022-09-16T01:47:04.458573Z",
     "iopub.status.busy": "2022-09-16T01:47:04.458114Z",
     "iopub.status.idle": "2022-09-16T01:47:04.469866Z",
     "shell.execute_reply": "2022-09-16T01:47:04.468619Z"
    },
    "papermill": {
     "duration": 0.027585,
     "end_time": "2022-09-16T01:47:04.472659",
     "exception": false,
     "start_time": "2022-09-16T01:47:04.445074",
     "status": "completed"
    },
    "tags": []
   },
   "outputs": [],
   "source": [
    "train['amt'] = train['amt'].astype(np.int64)"
   ]
  },
  {
   "cell_type": "code",
   "execution_count": 17,
   "id": "dfb89100",
   "metadata": {
    "execution": {
     "iopub.execute_input": "2022-09-16T01:47:04.498027Z",
     "iopub.status.busy": "2022-09-16T01:47:04.497569Z",
     "iopub.status.idle": "2022-09-16T01:47:04.513551Z",
     "shell.execute_reply": "2022-09-16T01:47:04.512323Z"
    },
    "papermill": {
     "duration": 0.031722,
     "end_time": "2022-09-16T01:47:04.515969",
     "exception": false,
     "start_time": "2022-09-16T01:47:04.484247",
     "status": "completed"
    },
    "tags": []
   },
   "outputs": [
    {
     "data": {
      "text/html": [
       "<div>\n",
       "<style scoped>\n",
       "    .dataframe tbody tr th:only-of-type {\n",
       "        vertical-align: middle;\n",
       "    }\n",
       "\n",
       "    .dataframe tbody tr th {\n",
       "        vertical-align: top;\n",
       "    }\n",
       "\n",
       "    .dataframe thead th {\n",
       "        text-align: right;\n",
       "    }\n",
       "</style>\n",
       "<table border=\"1\" class=\"dataframe\">\n",
       "  <thead>\n",
       "    <tr style=\"text-align: right;\">\n",
       "      <th></th>\n",
       "      <th>trans_date_trans_time</th>\n",
       "      <th>category</th>\n",
       "      <th>amt</th>\n",
       "      <th>gender</th>\n",
       "      <th>city</th>\n",
       "      <th>state</th>\n",
       "      <th>zip</th>\n",
       "      <th>is_fraud</th>\n",
       "      <th>age</th>\n",
       "    </tr>\n",
       "  </thead>\n",
       "  <tbody>\n",
       "    <tr>\n",
       "      <th>0</th>\n",
       "      <td>2019-01-01 00:00:18</td>\n",
       "      <td>misc_net</td>\n",
       "      <td>4</td>\n",
       "      <td>F</td>\n",
       "      <td>Moravian Falls</td>\n",
       "      <td>NC</td>\n",
       "      <td>28654</td>\n",
       "      <td>0</td>\n",
       "      <td>34</td>\n",
       "    </tr>\n",
       "    <tr>\n",
       "      <th>1</th>\n",
       "      <td>2019-01-01 00:00:44</td>\n",
       "      <td>grocery_pos</td>\n",
       "      <td>107</td>\n",
       "      <td>F</td>\n",
       "      <td>Orient</td>\n",
       "      <td>WA</td>\n",
       "      <td>99160</td>\n",
       "      <td>0</td>\n",
       "      <td>44</td>\n",
       "    </tr>\n",
       "    <tr>\n",
       "      <th>2</th>\n",
       "      <td>2019-01-01 00:00:51</td>\n",
       "      <td>entertainment</td>\n",
       "      <td>220</td>\n",
       "      <td>M</td>\n",
       "      <td>Malad City</td>\n",
       "      <td>ID</td>\n",
       "      <td>83252</td>\n",
       "      <td>0</td>\n",
       "      <td>60</td>\n",
       "    </tr>\n",
       "    <tr>\n",
       "      <th>3</th>\n",
       "      <td>2019-01-01 00:01:16</td>\n",
       "      <td>gas_transport</td>\n",
       "      <td>45</td>\n",
       "      <td>M</td>\n",
       "      <td>Boulder</td>\n",
       "      <td>MT</td>\n",
       "      <td>59632</td>\n",
       "      <td>0</td>\n",
       "      <td>55</td>\n",
       "    </tr>\n",
       "    <tr>\n",
       "      <th>4</th>\n",
       "      <td>2019-01-01 00:03:06</td>\n",
       "      <td>misc_pos</td>\n",
       "      <td>41</td>\n",
       "      <td>M</td>\n",
       "      <td>Doe Hill</td>\n",
       "      <td>VA</td>\n",
       "      <td>24433</td>\n",
       "      <td>0</td>\n",
       "      <td>36</td>\n",
       "    </tr>\n",
       "  </tbody>\n",
       "</table>\n",
       "</div>"
      ],
      "text/plain": [
       "  trans_date_trans_time       category  amt gender            city state  \\\n",
       "0   2019-01-01 00:00:18       misc_net    4      F  Moravian Falls    NC   \n",
       "1   2019-01-01 00:00:44    grocery_pos  107      F          Orient    WA   \n",
       "2   2019-01-01 00:00:51  entertainment  220      M      Malad City    ID   \n",
       "3   2019-01-01 00:01:16  gas_transport   45      M         Boulder    MT   \n",
       "4   2019-01-01 00:03:06       misc_pos   41      M        Doe Hill    VA   \n",
       "\n",
       "     zip  is_fraud  age  \n",
       "0  28654         0   34  \n",
       "1  99160         0   44  \n",
       "2  83252         0   60  \n",
       "3  59632         0   55  \n",
       "4  24433         0   36  "
      ]
     },
     "execution_count": 17,
     "metadata": {},
     "output_type": "execute_result"
    }
   ],
   "source": [
    "train.head()"
   ]
  },
  {
   "cell_type": "code",
   "execution_count": 18,
   "id": "ac8884c0",
   "metadata": {
    "execution": {
     "iopub.execute_input": "2022-09-16T01:47:04.541316Z",
     "iopub.status.busy": "2022-09-16T01:47:04.540871Z",
     "iopub.status.idle": "2022-09-16T01:47:04.778285Z",
     "shell.execute_reply": "2022-09-16T01:47:04.776878Z"
    },
    "papermill": {
     "duration": 0.253046,
     "end_time": "2022-09-16T01:47:04.780862",
     "exception": false,
     "start_time": "2022-09-16T01:47:04.527816",
     "status": "completed"
    },
    "tags": []
   },
   "outputs": [
    {
     "name": "stdout",
     "output_type": "stream",
     "text": [
      "<class 'pandas.core.frame.DataFrame'>\n",
      "RangeIndex: 1296675 entries, 0 to 1296674\n",
      "Data columns (total 9 columns):\n",
      " #   Column                 Non-Null Count    Dtype         \n",
      "---  ------                 --------------    -----         \n",
      " 0   trans_date_trans_time  1296675 non-null  datetime64[ns]\n",
      " 1   category               1296675 non-null  object        \n",
      " 2   amt                    1296675 non-null  int64         \n",
      " 3   gender                 1296675 non-null  object        \n",
      " 4   city                   1296675 non-null  object        \n",
      " 5   state                  1296675 non-null  object        \n",
      " 6   zip                    1296675 non-null  int64         \n",
      " 7   is_fraud               1296675 non-null  int64         \n",
      " 8   age                    1296675 non-null  int64         \n",
      "dtypes: datetime64[ns](1), int64(4), object(4)\n",
      "memory usage: 89.0+ MB\n"
     ]
    }
   ],
   "source": [
    "train.info()"
   ]
  },
  {
   "cell_type": "code",
   "execution_count": 19,
   "id": "49a7bd2a",
   "metadata": {
    "execution": {
     "iopub.execute_input": "2022-09-16T01:47:04.806904Z",
     "iopub.status.busy": "2022-09-16T01:47:04.806445Z",
     "iopub.status.idle": "2022-09-16T01:47:05.560652Z",
     "shell.execute_reply": "2022-09-16T01:47:05.559533Z"
    },
    "papermill": {
     "duration": 0.77064,
     "end_time": "2022-09-16T01:47:05.563438",
     "exception": false,
     "start_time": "2022-09-16T01:47:04.792798",
     "status": "completed"
    },
    "tags": []
   },
   "outputs": [],
   "source": [
    "#Label Encoding\n",
    "\n",
    "featured = [ 'trans_date_trans_time','category','gender','city','state']\n",
    "\n",
    "for feature in featured:\n",
    "  train[f\"{feature}_cat\"] = train[feature].astype('category')\n",
    "  train[f\"{feature}_cat\"] = train[f\"{feature}_cat\"].cat.codes"
   ]
  },
  {
   "cell_type": "code",
   "execution_count": 20,
   "id": "efd2f6e5",
   "metadata": {
    "execution": {
     "iopub.execute_input": "2022-09-16T01:47:05.588776Z",
     "iopub.status.busy": "2022-09-16T01:47:05.588347Z",
     "iopub.status.idle": "2022-09-16T01:47:05.640891Z",
     "shell.execute_reply": "2022-09-16T01:47:05.639764Z"
    },
    "papermill": {
     "duration": 0.068473,
     "end_time": "2022-09-16T01:47:05.643669",
     "exception": false,
     "start_time": "2022-09-16T01:47:05.575196",
     "status": "completed"
    },
    "tags": []
   },
   "outputs": [],
   "source": [
    "# Drop the reductant features since Label encoding have been done\n",
    "train.drop(['trans_date_trans_time','category','gender','city','state'], axis=1, inplace=True)"
   ]
  },
  {
   "cell_type": "code",
   "execution_count": 21,
   "id": "a133ca93",
   "metadata": {
    "execution": {
     "iopub.execute_input": "2022-09-16T01:47:05.669029Z",
     "iopub.status.busy": "2022-09-16T01:47:05.668580Z",
     "iopub.status.idle": "2022-09-16T01:47:06.651156Z",
     "shell.execute_reply": "2022-09-16T01:47:06.649788Z"
    },
    "papermill": {
     "duration": 0.998926,
     "end_time": "2022-09-16T01:47:06.654324",
     "exception": false,
     "start_time": "2022-09-16T01:47:05.655398",
     "status": "completed"
    },
    "tags": []
   },
   "outputs": [],
   "source": [
    "from sklearn.preprocessing import StandardScaler\n",
    "scaler=StandardScaler()"
   ]
  },
  {
   "cell_type": "code",
   "execution_count": 22,
   "id": "6bac32a7",
   "metadata": {
    "execution": {
     "iopub.execute_input": "2022-09-16T01:47:06.680427Z",
     "iopub.status.busy": "2022-09-16T01:47:06.680020Z",
     "iopub.status.idle": "2022-09-16T01:47:06.711665Z",
     "shell.execute_reply": "2022-09-16T01:47:06.710703Z"
    },
    "papermill": {
     "duration": 0.047662,
     "end_time": "2022-09-16T01:47:06.714165",
     "exception": false,
     "start_time": "2022-09-16T01:47:06.666503",
     "status": "completed"
    },
    "tags": []
   },
   "outputs": [],
   "source": [
    "#for all independent features\n",
    "x=train.drop(['is_fraud'], axis=1)"
   ]
  },
  {
   "cell_type": "code",
   "execution_count": 23,
   "id": "3ead4564",
   "metadata": {
    "execution": {
     "iopub.execute_input": "2022-09-16T01:47:06.739906Z",
     "iopub.status.busy": "2022-09-16T01:47:06.739460Z",
     "iopub.status.idle": "2022-09-16T01:47:06.744528Z",
     "shell.execute_reply": "2022-09-16T01:47:06.743469Z"
    },
    "papermill": {
     "duration": 0.020716,
     "end_time": "2022-09-16T01:47:06.746833",
     "exception": false,
     "start_time": "2022-09-16T01:47:06.726117",
     "status": "completed"
    },
    "tags": []
   },
   "outputs": [],
   "source": [
    "#for dependent feature\n",
    "y=train['is_fraud']"
   ]
  },
  {
   "cell_type": "code",
   "execution_count": 24,
   "id": "cabd6bd0",
   "metadata": {
    "execution": {
     "iopub.execute_input": "2022-09-16T01:47:06.773143Z",
     "iopub.status.busy": "2022-09-16T01:47:06.772079Z",
     "iopub.status.idle": "2022-09-16T01:47:07.127660Z",
     "shell.execute_reply": "2022-09-16T01:47:07.126478Z"
    },
    "papermill": {
     "duration": 0.371846,
     "end_time": "2022-09-16T01:47:07.130623",
     "exception": false,
     "start_time": "2022-09-16T01:47:06.758777",
     "status": "completed"
    },
    "tags": []
   },
   "outputs": [],
   "source": [
    "from sklearn.model_selection import train_test_split\n",
    "\n",
    "train_x, test_x, train_y, test_y = train_test_split(x,y, test_size= 0.3, random_state= 1)"
   ]
  },
  {
   "cell_type": "code",
   "execution_count": 25,
   "id": "bc15cd24",
   "metadata": {
    "execution": {
     "iopub.execute_input": "2022-09-16T01:47:07.157471Z",
     "iopub.status.busy": "2022-09-16T01:47:07.156742Z",
     "iopub.status.idle": "2022-09-16T01:47:07.162808Z",
     "shell.execute_reply": "2022-09-16T01:47:07.161949Z"
    },
    "papermill": {
     "duration": 0.021748,
     "end_time": "2022-09-16T01:47:07.164973",
     "exception": false,
     "start_time": "2022-09-16T01:47:07.143225",
     "status": "completed"
    },
    "tags": []
   },
   "outputs": [
    {
     "data": {
      "text/plain": [
       "(907672, 8)"
      ]
     },
     "execution_count": 25,
     "metadata": {},
     "output_type": "execute_result"
    }
   ],
   "source": [
    "train_x.shape"
   ]
  },
  {
   "cell_type": "code",
   "execution_count": 26,
   "id": "46448dd2",
   "metadata": {
    "execution": {
     "iopub.execute_input": "2022-09-16T01:47:07.190939Z",
     "iopub.status.busy": "2022-09-16T01:47:07.190142Z",
     "iopub.status.idle": "2022-09-16T01:47:07.196291Z",
     "shell.execute_reply": "2022-09-16T01:47:07.195351Z"
    },
    "papermill": {
     "duration": 0.021597,
     "end_time": "2022-09-16T01:47:07.198464",
     "exception": false,
     "start_time": "2022-09-16T01:47:07.176867",
     "status": "completed"
    },
    "tags": []
   },
   "outputs": [
    {
     "data": {
      "text/plain": [
       "(389003, 8)"
      ]
     },
     "execution_count": 26,
     "metadata": {},
     "output_type": "execute_result"
    }
   ],
   "source": [
    "test_x.shape"
   ]
  },
  {
   "cell_type": "code",
   "execution_count": 27,
   "id": "e69f94bd",
   "metadata": {
    "execution": {
     "iopub.execute_input": "2022-09-16T01:47:07.224971Z",
     "iopub.status.busy": "2022-09-16T01:47:07.224341Z",
     "iopub.status.idle": "2022-09-16T01:47:07.439259Z",
     "shell.execute_reply": "2022-09-16T01:47:07.437923Z"
    },
    "papermill": {
     "duration": 0.231604,
     "end_time": "2022-09-16T01:47:07.442120",
     "exception": false,
     "start_time": "2022-09-16T01:47:07.210516",
     "status": "completed"
    },
    "tags": []
   },
   "outputs": [],
   "source": [
    "#create the model\n",
    "from sklearn.ensemble import RandomForestClassifier\n",
    "\n",
    "rf1=RandomForestClassifier(n_estimators= 100)"
   ]
  },
  {
   "cell_type": "code",
   "execution_count": 28,
   "id": "39970a12",
   "metadata": {
    "execution": {
     "iopub.execute_input": "2022-09-16T01:47:07.468221Z",
     "iopub.status.busy": "2022-09-16T01:47:07.467755Z",
     "iopub.status.idle": "2022-09-16T01:51:58.609579Z",
     "shell.execute_reply": "2022-09-16T01:51:58.603348Z"
    },
    "papermill": {
     "duration": 291.165347,
     "end_time": "2022-09-16T01:51:58.619573",
     "exception": false,
     "start_time": "2022-09-16T01:47:07.454226",
     "status": "completed"
    },
    "tags": []
   },
   "outputs": [
    {
     "data": {
      "text/plain": [
       "RandomForestClassifier()"
      ]
     },
     "execution_count": 28,
     "metadata": {},
     "output_type": "execute_result"
    }
   ],
   "source": [
    "rf1.fit(train_x,train_y)"
   ]
  },
  {
   "cell_type": "code",
   "execution_count": 29,
   "id": "6b4c9e3d",
   "metadata": {
    "execution": {
     "iopub.execute_input": "2022-09-16T01:51:58.646207Z",
     "iopub.status.busy": "2022-09-16T01:51:58.645813Z",
     "iopub.status.idle": "2022-09-16T01:52:04.674303Z",
     "shell.execute_reply": "2022-09-16T01:52:04.673120Z"
    },
    "papermill": {
     "duration": 6.04519,
     "end_time": "2022-09-16T01:52:04.677109",
     "exception": false,
     "start_time": "2022-09-16T01:51:58.631919",
     "status": "completed"
    },
    "tags": []
   },
   "outputs": [],
   "source": [
    "prediction_rf=rf1.predict(test_x)"
   ]
  },
  {
   "cell_type": "code",
   "execution_count": 30,
   "id": "5a55298f",
   "metadata": {
    "execution": {
     "iopub.execute_input": "2022-09-16T01:52:04.703621Z",
     "iopub.status.busy": "2022-09-16T01:52:04.703200Z",
     "iopub.status.idle": "2022-09-16T01:52:10.772863Z",
     "shell.execute_reply": "2022-09-16T01:52:10.771674Z"
    },
    "papermill": {
     "duration": 6.086045,
     "end_time": "2022-09-16T01:52:10.775617",
     "exception": false,
     "start_time": "2022-09-16T01:52:04.689572",
     "status": "completed"
    },
    "tags": []
   },
   "outputs": [],
   "source": [
    "rf_score=rf1.score(test_x,test_y)*100"
   ]
  },
  {
   "cell_type": "code",
   "execution_count": 31,
   "id": "98982893",
   "metadata": {
    "execution": {
     "iopub.execute_input": "2022-09-16T01:52:10.803724Z",
     "iopub.status.busy": "2022-09-16T01:52:10.803267Z",
     "iopub.status.idle": "2022-09-16T01:52:10.810042Z",
     "shell.execute_reply": "2022-09-16T01:52:10.808999Z"
    },
    "papermill": {
     "duration": 0.023833,
     "end_time": "2022-09-16T01:52:10.812248",
     "exception": false,
     "start_time": "2022-09-16T01:52:10.788415",
     "status": "completed"
    },
    "tags": []
   },
   "outputs": [
    {
     "data": {
      "text/plain": [
       "99.78303509227435"
      ]
     },
     "execution_count": 31,
     "metadata": {},
     "output_type": "execute_result"
    }
   ],
   "source": [
    "rf_score"
   ]
  },
  {
   "cell_type": "code",
   "execution_count": 32,
   "id": "60c92b35",
   "metadata": {
    "execution": {
     "iopub.execute_input": "2022-09-16T01:52:10.839714Z",
     "iopub.status.busy": "2022-09-16T01:52:10.838952Z",
     "iopub.status.idle": "2022-09-16T01:52:10.843894Z",
     "shell.execute_reply": "2022-09-16T01:52:10.842991Z"
    },
    "papermill": {
     "duration": 0.021127,
     "end_time": "2022-09-16T01:52:10.846106",
     "exception": false,
     "start_time": "2022-09-16T01:52:10.824979",
     "status": "completed"
    },
    "tags": []
   },
   "outputs": [],
   "source": [
    "# Importing class and libraries\n",
    "\n",
    "from sklearn.svm import SVC\n",
    "model = SVC()"
   ]
  },
  {
   "cell_type": "code",
   "execution_count": 33,
   "id": "00760dda",
   "metadata": {
    "execution": {
     "iopub.execute_input": "2022-09-16T01:52:10.873278Z",
     "iopub.status.busy": "2022-09-16T01:52:10.872308Z",
     "iopub.status.idle": "2022-09-16T02:01:03.291667Z",
     "shell.execute_reply": "2022-09-16T02:01:03.286937Z"
    },
    "papermill": {
     "duration": 532.455343,
     "end_time": "2022-09-16T02:01:03.313941",
     "exception": false,
     "start_time": "2022-09-16T01:52:10.858598",
     "status": "completed"
    },
    "tags": []
   },
   "outputs": [
    {
     "data": {
      "text/plain": [
       "SVC()"
      ]
     },
     "execution_count": 33,
     "metadata": {},
     "output_type": "execute_result"
    }
   ],
   "source": [
    "# Training the Model\n",
    "\n",
    "model.fit(train_x,train_y)"
   ]
  },
  {
   "cell_type": "code",
   "execution_count": 34,
   "id": "d44e6b10",
   "metadata": {
    "execution": {
     "iopub.execute_input": "2022-09-16T02:01:03.340614Z",
     "iopub.status.busy": "2022-09-16T02:01:03.340210Z",
     "iopub.status.idle": "2022-09-16T02:10:53.577852Z",
     "shell.execute_reply": "2022-09-16T02:10:53.576157Z"
    },
    "papermill": {
     "duration": 590.272231,
     "end_time": "2022-09-16T02:10:53.598855",
     "exception": false,
     "start_time": "2022-09-16T02:01:03.326624",
     "status": "completed"
    },
    "tags": []
   },
   "outputs": [
    {
     "data": {
      "text/plain": [
       "0.9941399536396408"
      ]
     },
     "execution_count": 34,
     "metadata": {},
     "output_type": "execute_result"
    }
   ],
   "source": [
    "# Accuracy of the model in training\n",
    "\n",
    "model.score(train_x,train_y)"
   ]
  },
  {
   "cell_type": "code",
   "execution_count": 35,
   "id": "eaeaed7e",
   "metadata": {
    "execution": {
     "iopub.execute_input": "2022-09-16T02:10:53.626597Z",
     "iopub.status.busy": "2022-09-16T02:10:53.626123Z",
     "iopub.status.idle": "2022-09-16T02:20:41.865087Z",
     "shell.execute_reply": "2022-09-16T02:20:41.863611Z"
    },
    "papermill": {
     "duration": 588.264754,
     "end_time": "2022-09-16T02:20:41.876245",
     "exception": false,
     "start_time": "2022-09-16T02:10:53.611491",
     "status": "completed"
    },
    "tags": []
   },
   "outputs": [
    {
     "data": {
      "text/plain": [
       "0.9941399536396408"
      ]
     },
     "execution_count": 35,
     "metadata": {},
     "output_type": "execute_result"
    }
   ],
   "source": [
    "# Accuracy of the model in Testing\n",
    "\n",
    "model.score(train_x,train_y)"
   ]
  },
  {
   "cell_type": "code",
   "execution_count": 36,
   "id": "9ea0e9df",
   "metadata": {
    "execution": {
     "iopub.execute_input": "2022-09-16T02:20:41.905084Z",
     "iopub.status.busy": "2022-09-16T02:20:41.904015Z",
     "iopub.status.idle": "2022-09-16T02:20:41.908984Z",
     "shell.execute_reply": "2022-09-16T02:20:41.908033Z"
    },
    "papermill": {
     "duration": 0.022185,
     "end_time": "2022-09-16T02:20:41.911273",
     "exception": false,
     "start_time": "2022-09-16T02:20:41.889088",
     "status": "completed"
    },
    "tags": []
   },
   "outputs": [],
   "source": [
    "# Importing Libraries and Classes\n",
    "\n",
    "from sklearn import metrics"
   ]
  },
  {
   "cell_type": "code",
   "execution_count": 37,
   "id": "17216125",
   "metadata": {
    "execution": {
     "iopub.execute_input": "2022-09-16T02:20:41.939718Z",
     "iopub.status.busy": "2022-09-16T02:20:41.939061Z",
     "iopub.status.idle": "2022-09-16T02:24:44.502444Z",
     "shell.execute_reply": "2022-09-16T02:24:44.501046Z"
    },
    "papermill": {
     "duration": 242.581556,
     "end_time": "2022-09-16T02:24:44.505771",
     "exception": false,
     "start_time": "2022-09-16T02:20:41.924215",
     "status": "completed"
    },
    "tags": []
   },
   "outputs": [],
   "source": [
    "# Y contains all the outputs and X contains all the inputs. We will test on the machine if it gives to expected Output for the \n",
    "# corresponding Inputs.\n",
    "\n",
    "expected = test_y\n",
    "predicted = model.predict(test_x)"
   ]
  },
  {
   "cell_type": "code",
   "execution_count": 38,
   "id": "f707a9d7",
   "metadata": {
    "execution": {
     "iopub.execute_input": "2022-09-16T02:24:44.535562Z",
     "iopub.status.busy": "2022-09-16T02:24:44.534517Z",
     "iopub.status.idle": "2022-09-16T02:24:45.212056Z",
     "shell.execute_reply": "2022-09-16T02:24:45.210866Z"
    },
    "papermill": {
     "duration": 0.695333,
     "end_time": "2022-09-16T02:24:45.215201",
     "exception": false,
     "start_time": "2022-09-16T02:24:44.519868",
     "status": "completed"
    },
    "tags": []
   },
   "outputs": [
    {
     "name": "stderr",
     "output_type": "stream",
     "text": [
      "/opt/conda/lib/python3.7/site-packages/sklearn/metrics/_classification.py:1318: UndefinedMetricWarning: Precision and F-score are ill-defined and being set to 0.0 in labels with no predicted samples. Use `zero_division` parameter to control this behavior.\n",
      "  _warn_prf(average, modifier, msg_start, len(result))\n"
     ]
    },
    {
     "name": "stdout",
     "output_type": "stream",
     "text": [
      "              precision    recall  f1-score   support\n",
      "\n",
      "           0       0.99      1.00      1.00    386816\n",
      "           1       0.00      0.00      0.00      2187\n",
      "\n",
      "    accuracy                           0.99    389003\n",
      "   macro avg       0.50      0.50      0.50    389003\n",
      "weighted avg       0.99      0.99      0.99    389003\n",
      "\n"
     ]
    },
    {
     "name": "stderr",
     "output_type": "stream",
     "text": [
      "/opt/conda/lib/python3.7/site-packages/sklearn/metrics/_classification.py:1318: UndefinedMetricWarning: Precision and F-score are ill-defined and being set to 0.0 in labels with no predicted samples. Use `zero_division` parameter to control this behavior.\n",
      "  _warn_prf(average, modifier, msg_start, len(result))\n",
      "/opt/conda/lib/python3.7/site-packages/sklearn/metrics/_classification.py:1318: UndefinedMetricWarning: Precision and F-score are ill-defined and being set to 0.0 in labels with no predicted samples. Use `zero_division` parameter to control this behavior.\n",
      "  _warn_prf(average, modifier, msg_start, len(result))\n"
     ]
    }
   ],
   "source": [
    "# Obtaining Report\n",
    "\n",
    "print(metrics.classification_report(expected, predicted))"
   ]
  },
  {
   "cell_type": "code",
   "execution_count": 39,
   "id": "9f538568",
   "metadata": {
    "execution": {
     "iopub.execute_input": "2022-09-16T02:24:45.246438Z",
     "iopub.status.busy": "2022-09-16T02:24:45.245730Z",
     "iopub.status.idle": "2022-09-16T02:24:45.323911Z",
     "shell.execute_reply": "2022-09-16T02:24:45.322403Z"
    },
    "papermill": {
     "duration": 0.09718,
     "end_time": "2022-09-16T02:24:45.327213",
     "exception": false,
     "start_time": "2022-09-16T02:24:45.230033",
     "status": "completed"
    },
    "tags": []
   },
   "outputs": [
    {
     "name": "stdout",
     "output_type": "stream",
     "text": [
      "[[386816      0]\n",
      " [  2187      0]]\n"
     ]
    }
   ],
   "source": [
    "# Output in the form of count\n",
    "\n",
    "print(metrics.confusion_matrix(expected, predicted))"
   ]
  },
  {
   "cell_type": "code",
   "execution_count": null,
   "id": "67cf3aa8",
   "metadata": {
    "papermill": {
     "duration": 0.013039,
     "end_time": "2022-09-16T02:24:45.354150",
     "exception": false,
     "start_time": "2022-09-16T02:24:45.341111",
     "status": "completed"
    },
    "tags": []
   },
   "outputs": [],
   "source": []
  }
 ],
 "metadata": {
  "kernelspec": {
   "display_name": "Python 3",
   "language": "python",
   "name": "python3"
  },
  "language_info": {
   "codemirror_mode": {
    "name": "ipython",
    "version": 3
   },
   "file_extension": ".py",
   "mimetype": "text/x-python",
   "name": "python",
   "nbconvert_exporter": "python",
   "pygments_lexer": "ipython3",
   "version": "3.7.12"
  },
  "papermill": {
   "default_parameters": {},
   "duration": 2285.553028,
   "end_time": "2022-09-16T02:24:46.598889",
   "environment_variables": {},
   "exception": null,
   "input_path": "__notebook__.ipynb",
   "output_path": "__notebook__.ipynb",
   "parameters": {},
   "start_time": "2022-09-16T01:46:41.045861",
   "version": "2.3.4"
  }
 },
 "nbformat": 4,
 "nbformat_minor": 5
}
