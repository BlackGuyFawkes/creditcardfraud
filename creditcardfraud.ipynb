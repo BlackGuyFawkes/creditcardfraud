{
 "cells": [
  {
   "cell_type": "code",
   "execution_count": 1,
   "id": "c938a74d",
   "metadata": {
    "execution": {
     "iopub.execute_input": "2022-09-14T09:46:35.867624Z",
     "iopub.status.busy": "2022-09-14T09:46:35.867190Z",
     "iopub.status.idle": "2022-09-14T09:46:35.878314Z",
     "shell.execute_reply": "2022-09-14T09:46:35.877263Z"
    },
    "papermill": {
     "duration": 0.02428,
     "end_time": "2022-09-14T09:46:35.880221",
     "exception": false,
     "start_time": "2022-09-14T09:46:35.855941",
     "status": "completed"
    },
    "tags": []
   },
   "outputs": [],
   "source": [
    "#Import libraries\n",
    "import numpy as np\n",
    "import pandas as pd\n",
    "import matplotlib.pyplot as plt"
   ]
  },
  {
   "cell_type": "code",
   "execution_count": 2,
   "id": "80058817",
   "metadata": {
    "execution": {
     "iopub.execute_input": "2022-09-14T09:46:35.898982Z",
     "iopub.status.busy": "2022-09-14T09:46:35.898618Z",
     "iopub.status.idle": "2022-09-14T09:46:45.277532Z",
     "shell.execute_reply": "2022-09-14T09:46:45.276034Z"
    },
    "papermill": {
     "duration": 9.390678,
     "end_time": "2022-09-14T09:46:45.279713",
     "exception": false,
     "start_time": "2022-09-14T09:46:35.889035",
     "status": "completed"
    },
    "tags": []
   },
   "outputs": [
    {
     "data": {
      "text/html": [
       "<div>\n",
       "<style scoped>\n",
       "    .dataframe tbody tr th:only-of-type {\n",
       "        vertical-align: middle;\n",
       "    }\n",
       "\n",
       "    .dataframe tbody tr th {\n",
       "        vertical-align: top;\n",
       "    }\n",
       "\n",
       "    .dataframe thead th {\n",
       "        text-align: right;\n",
       "    }\n",
       "</style>\n",
       "<table border=\"1\" class=\"dataframe\">\n",
       "  <thead>\n",
       "    <tr style=\"text-align: right;\">\n",
       "      <th></th>\n",
       "      <th>Unnamed: 0</th>\n",
       "      <th>trans_date_trans_time</th>\n",
       "      <th>cc_num</th>\n",
       "      <th>merchant</th>\n",
       "      <th>category</th>\n",
       "      <th>amt</th>\n",
       "      <th>first</th>\n",
       "      <th>last</th>\n",
       "      <th>gender</th>\n",
       "      <th>street</th>\n",
       "      <th>...</th>\n",
       "      <th>lat</th>\n",
       "      <th>long</th>\n",
       "      <th>city_pop</th>\n",
       "      <th>job</th>\n",
       "      <th>dob</th>\n",
       "      <th>trans_num</th>\n",
       "      <th>unix_time</th>\n",
       "      <th>merch_lat</th>\n",
       "      <th>merch_long</th>\n",
       "      <th>is_fraud</th>\n",
       "    </tr>\n",
       "  </thead>\n",
       "  <tbody>\n",
       "    <tr>\n",
       "      <th>0</th>\n",
       "      <td>0</td>\n",
       "      <td>2019-01-01 00:00:18</td>\n",
       "      <td>2703186189652095</td>\n",
       "      <td>fraud_Rippin, Kub and Mann</td>\n",
       "      <td>misc_net</td>\n",
       "      <td>4.97</td>\n",
       "      <td>Jennifer</td>\n",
       "      <td>Banks</td>\n",
       "      <td>F</td>\n",
       "      <td>561 Perry Cove</td>\n",
       "      <td>...</td>\n",
       "      <td>36.0788</td>\n",
       "      <td>-81.1781</td>\n",
       "      <td>3495</td>\n",
       "      <td>Psychologist, counselling</td>\n",
       "      <td>1988-03-09</td>\n",
       "      <td>0b242abb623afc578575680df30655b9</td>\n",
       "      <td>1325376018</td>\n",
       "      <td>36.011293</td>\n",
       "      <td>-82.048315</td>\n",
       "      <td>0</td>\n",
       "    </tr>\n",
       "    <tr>\n",
       "      <th>1</th>\n",
       "      <td>1</td>\n",
       "      <td>2019-01-01 00:00:44</td>\n",
       "      <td>630423337322</td>\n",
       "      <td>fraud_Heller, Gutmann and Zieme</td>\n",
       "      <td>grocery_pos</td>\n",
       "      <td>107.23</td>\n",
       "      <td>Stephanie</td>\n",
       "      <td>Gill</td>\n",
       "      <td>F</td>\n",
       "      <td>43039 Riley Greens Suite 393</td>\n",
       "      <td>...</td>\n",
       "      <td>48.8878</td>\n",
       "      <td>-118.2105</td>\n",
       "      <td>149</td>\n",
       "      <td>Special educational needs teacher</td>\n",
       "      <td>1978-06-21</td>\n",
       "      <td>1f76529f8574734946361c461b024d99</td>\n",
       "      <td>1325376044</td>\n",
       "      <td>49.159047</td>\n",
       "      <td>-118.186462</td>\n",
       "      <td>0</td>\n",
       "    </tr>\n",
       "    <tr>\n",
       "      <th>2</th>\n",
       "      <td>2</td>\n",
       "      <td>2019-01-01 00:00:51</td>\n",
       "      <td>38859492057661</td>\n",
       "      <td>fraud_Lind-Buckridge</td>\n",
       "      <td>entertainment</td>\n",
       "      <td>220.11</td>\n",
       "      <td>Edward</td>\n",
       "      <td>Sanchez</td>\n",
       "      <td>M</td>\n",
       "      <td>594 White Dale Suite 530</td>\n",
       "      <td>...</td>\n",
       "      <td>42.1808</td>\n",
       "      <td>-112.2620</td>\n",
       "      <td>4154</td>\n",
       "      <td>Nature conservation officer</td>\n",
       "      <td>1962-01-19</td>\n",
       "      <td>a1a22d70485983eac12b5b88dad1cf95</td>\n",
       "      <td>1325376051</td>\n",
       "      <td>43.150704</td>\n",
       "      <td>-112.154481</td>\n",
       "      <td>0</td>\n",
       "    </tr>\n",
       "    <tr>\n",
       "      <th>3</th>\n",
       "      <td>3</td>\n",
       "      <td>2019-01-01 00:01:16</td>\n",
       "      <td>3534093764340240</td>\n",
       "      <td>fraud_Kutch, Hermiston and Farrell</td>\n",
       "      <td>gas_transport</td>\n",
       "      <td>45.00</td>\n",
       "      <td>Jeremy</td>\n",
       "      <td>White</td>\n",
       "      <td>M</td>\n",
       "      <td>9443 Cynthia Court Apt. 038</td>\n",
       "      <td>...</td>\n",
       "      <td>46.2306</td>\n",
       "      <td>-112.1138</td>\n",
       "      <td>1939</td>\n",
       "      <td>Patent attorney</td>\n",
       "      <td>1967-01-12</td>\n",
       "      <td>6b849c168bdad6f867558c3793159a81</td>\n",
       "      <td>1325376076</td>\n",
       "      <td>47.034331</td>\n",
       "      <td>-112.561071</td>\n",
       "      <td>0</td>\n",
       "    </tr>\n",
       "    <tr>\n",
       "      <th>4</th>\n",
       "      <td>4</td>\n",
       "      <td>2019-01-01 00:03:06</td>\n",
       "      <td>375534208663984</td>\n",
       "      <td>fraud_Keeling-Crist</td>\n",
       "      <td>misc_pos</td>\n",
       "      <td>41.96</td>\n",
       "      <td>Tyler</td>\n",
       "      <td>Garcia</td>\n",
       "      <td>M</td>\n",
       "      <td>408 Bradley Rest</td>\n",
       "      <td>...</td>\n",
       "      <td>38.4207</td>\n",
       "      <td>-79.4629</td>\n",
       "      <td>99</td>\n",
       "      <td>Dance movement psychotherapist</td>\n",
       "      <td>1986-03-28</td>\n",
       "      <td>a41d7549acf90789359a9aa5346dcb46</td>\n",
       "      <td>1325376186</td>\n",
       "      <td>38.674999</td>\n",
       "      <td>-78.632459</td>\n",
       "      <td>0</td>\n",
       "    </tr>\n",
       "  </tbody>\n",
       "</table>\n",
       "<p>5 rows × 23 columns</p>\n",
       "</div>"
      ],
      "text/plain": [
       "   Unnamed: 0 trans_date_trans_time            cc_num  \\\n",
       "0           0   2019-01-01 00:00:18  2703186189652095   \n",
       "1           1   2019-01-01 00:00:44      630423337322   \n",
       "2           2   2019-01-01 00:00:51    38859492057661   \n",
       "3           3   2019-01-01 00:01:16  3534093764340240   \n",
       "4           4   2019-01-01 00:03:06   375534208663984   \n",
       "\n",
       "                             merchant       category     amt      first  \\\n",
       "0          fraud_Rippin, Kub and Mann       misc_net    4.97   Jennifer   \n",
       "1     fraud_Heller, Gutmann and Zieme    grocery_pos  107.23  Stephanie   \n",
       "2                fraud_Lind-Buckridge  entertainment  220.11     Edward   \n",
       "3  fraud_Kutch, Hermiston and Farrell  gas_transport   45.00     Jeremy   \n",
       "4                 fraud_Keeling-Crist       misc_pos   41.96      Tyler   \n",
       "\n",
       "      last gender                        street  ...      lat      long  \\\n",
       "0    Banks      F                561 Perry Cove  ...  36.0788  -81.1781   \n",
       "1     Gill      F  43039 Riley Greens Suite 393  ...  48.8878 -118.2105   \n",
       "2  Sanchez      M      594 White Dale Suite 530  ...  42.1808 -112.2620   \n",
       "3    White      M   9443 Cynthia Court Apt. 038  ...  46.2306 -112.1138   \n",
       "4   Garcia      M              408 Bradley Rest  ...  38.4207  -79.4629   \n",
       "\n",
       "   city_pop                                job         dob  \\\n",
       "0      3495          Psychologist, counselling  1988-03-09   \n",
       "1       149  Special educational needs teacher  1978-06-21   \n",
       "2      4154        Nature conservation officer  1962-01-19   \n",
       "3      1939                    Patent attorney  1967-01-12   \n",
       "4        99     Dance movement psychotherapist  1986-03-28   \n",
       "\n",
       "                          trans_num   unix_time  merch_lat  merch_long  \\\n",
       "0  0b242abb623afc578575680df30655b9  1325376018  36.011293  -82.048315   \n",
       "1  1f76529f8574734946361c461b024d99  1325376044  49.159047 -118.186462   \n",
       "2  a1a22d70485983eac12b5b88dad1cf95  1325376051  43.150704 -112.154481   \n",
       "3  6b849c168bdad6f867558c3793159a81  1325376076  47.034331 -112.561071   \n",
       "4  a41d7549acf90789359a9aa5346dcb46  1325376186  38.674999  -78.632459   \n",
       "\n",
       "   is_fraud  \n",
       "0         0  \n",
       "1         0  \n",
       "2         0  \n",
       "3         0  \n",
       "4         0  \n",
       "\n",
       "[5 rows x 23 columns]"
      ]
     },
     "execution_count": 2,
     "metadata": {},
     "output_type": "execute_result"
    }
   ],
   "source": [
    "#Load and read the dataset into panda dataframe\n",
    "\n",
    "train = pd.read_csv('../input/fraud-detection/fraudTrain.csv')\n",
    "train.head()"
   ]
  },
  {
   "cell_type": "code",
   "execution_count": 3,
   "id": "8752d8d7",
   "metadata": {
    "execution": {
     "iopub.execute_input": "2022-09-14T09:46:45.299332Z",
     "iopub.status.busy": "2022-09-14T09:46:45.298302Z",
     "iopub.status.idle": "2022-09-14T09:46:45.306091Z",
     "shell.execute_reply": "2022-09-14T09:46:45.304954Z"
    },
    "papermill": {
     "duration": 0.02003,
     "end_time": "2022-09-14T09:46:45.308430",
     "exception": false,
     "start_time": "2022-09-14T09:46:45.288400",
     "status": "completed"
    },
    "tags": []
   },
   "outputs": [
    {
     "data": {
      "text/plain": [
       "(1296675, 23)"
      ]
     },
     "execution_count": 3,
     "metadata": {},
     "output_type": "execute_result"
    }
   ],
   "source": [
    "train.shape"
   ]
  },
  {
   "cell_type": "code",
   "execution_count": 4,
   "id": "ea19a00a",
   "metadata": {
    "execution": {
     "iopub.execute_input": "2022-09-14T09:46:45.327641Z",
     "iopub.status.busy": "2022-09-14T09:46:45.327262Z",
     "iopub.status.idle": "2022-09-14T09:46:47.502675Z",
     "shell.execute_reply": "2022-09-14T09:46:47.501846Z"
    },
    "papermill": {
     "duration": 2.187259,
     "end_time": "2022-09-14T09:46:47.504512",
     "exception": false,
     "start_time": "2022-09-14T09:46:45.317253",
     "status": "completed"
    },
    "tags": []
   },
   "outputs": [
    {
     "data": {
      "text/plain": [
       "Unnamed: 0               1296675\n",
       "trans_date_trans_time    1274791\n",
       "cc_num                       983\n",
       "merchant                     693\n",
       "category                      14\n",
       "amt                        52928\n",
       "first                        352\n",
       "last                         481\n",
       "gender                         2\n",
       "street                       983\n",
       "city                         894\n",
       "state                         51\n",
       "zip                          970\n",
       "lat                          968\n",
       "long                         969\n",
       "city_pop                     879\n",
       "job                          494\n",
       "dob                          968\n",
       "trans_num                1296675\n",
       "unix_time                1274823\n",
       "merch_lat                1247805\n",
       "merch_long               1275745\n",
       "is_fraud                       2\n",
       "dtype: int64"
      ]
     },
     "execution_count": 4,
     "metadata": {},
     "output_type": "execute_result"
    }
   ],
   "source": [
    "train.nunique()"
   ]
  },
  {
   "cell_type": "code",
   "execution_count": 5,
   "id": "87731f8a",
   "metadata": {
    "execution": {
     "iopub.execute_input": "2022-09-14T09:46:47.525027Z",
     "iopub.status.busy": "2022-09-14T09:46:47.524630Z",
     "iopub.status.idle": "2022-09-14T09:46:47.608767Z",
     "shell.execute_reply": "2022-09-14T09:46:47.607837Z"
    },
    "papermill": {
     "duration": 0.095906,
     "end_time": "2022-09-14T09:46:47.610411",
     "exception": false,
     "start_time": "2022-09-14T09:46:47.514505",
     "status": "completed"
    },
    "tags": []
   },
   "outputs": [],
   "source": [
    "train.drop(['Unnamed: 0', 'cc_num', 'merchant', 'first', 'last', 'street', 'lat', 'long', 'city_pop', 'job', 'trans_num', 'unix_time', 'merch_lat', 'merch_long'], axis=1, inplace=True)"
   ]
  },
  {
   "cell_type": "code",
   "execution_count": 6,
   "id": "2b2dcd8d",
   "metadata": {
    "execution": {
     "iopub.execute_input": "2022-09-14T09:46:47.630341Z",
     "iopub.status.busy": "2022-09-14T09:46:47.629953Z",
     "iopub.status.idle": "2022-09-14T09:46:47.643754Z",
     "shell.execute_reply": "2022-09-14T09:46:47.642296Z"
    },
    "papermill": {
     "duration": 0.026948,
     "end_time": "2022-09-14T09:46:47.646386",
     "exception": false,
     "start_time": "2022-09-14T09:46:47.619438",
     "status": "completed"
    },
    "tags": []
   },
   "outputs": [
    {
     "data": {
      "text/html": [
       "<div>\n",
       "<style scoped>\n",
       "    .dataframe tbody tr th:only-of-type {\n",
       "        vertical-align: middle;\n",
       "    }\n",
       "\n",
       "    .dataframe tbody tr th {\n",
       "        vertical-align: top;\n",
       "    }\n",
       "\n",
       "    .dataframe thead th {\n",
       "        text-align: right;\n",
       "    }\n",
       "</style>\n",
       "<table border=\"1\" class=\"dataframe\">\n",
       "  <thead>\n",
       "    <tr style=\"text-align: right;\">\n",
       "      <th></th>\n",
       "      <th>trans_date_trans_time</th>\n",
       "      <th>category</th>\n",
       "      <th>amt</th>\n",
       "      <th>gender</th>\n",
       "      <th>city</th>\n",
       "      <th>state</th>\n",
       "      <th>zip</th>\n",
       "      <th>dob</th>\n",
       "      <th>is_fraud</th>\n",
       "    </tr>\n",
       "  </thead>\n",
       "  <tbody>\n",
       "    <tr>\n",
       "      <th>0</th>\n",
       "      <td>2019-01-01 00:00:18</td>\n",
       "      <td>misc_net</td>\n",
       "      <td>4.97</td>\n",
       "      <td>F</td>\n",
       "      <td>Moravian Falls</td>\n",
       "      <td>NC</td>\n",
       "      <td>28654</td>\n",
       "      <td>1988-03-09</td>\n",
       "      <td>0</td>\n",
       "    </tr>\n",
       "    <tr>\n",
       "      <th>1</th>\n",
       "      <td>2019-01-01 00:00:44</td>\n",
       "      <td>grocery_pos</td>\n",
       "      <td>107.23</td>\n",
       "      <td>F</td>\n",
       "      <td>Orient</td>\n",
       "      <td>WA</td>\n",
       "      <td>99160</td>\n",
       "      <td>1978-06-21</td>\n",
       "      <td>0</td>\n",
       "    </tr>\n",
       "    <tr>\n",
       "      <th>2</th>\n",
       "      <td>2019-01-01 00:00:51</td>\n",
       "      <td>entertainment</td>\n",
       "      <td>220.11</td>\n",
       "      <td>M</td>\n",
       "      <td>Malad City</td>\n",
       "      <td>ID</td>\n",
       "      <td>83252</td>\n",
       "      <td>1962-01-19</td>\n",
       "      <td>0</td>\n",
       "    </tr>\n",
       "    <tr>\n",
       "      <th>3</th>\n",
       "      <td>2019-01-01 00:01:16</td>\n",
       "      <td>gas_transport</td>\n",
       "      <td>45.00</td>\n",
       "      <td>M</td>\n",
       "      <td>Boulder</td>\n",
       "      <td>MT</td>\n",
       "      <td>59632</td>\n",
       "      <td>1967-01-12</td>\n",
       "      <td>0</td>\n",
       "    </tr>\n",
       "    <tr>\n",
       "      <th>4</th>\n",
       "      <td>2019-01-01 00:03:06</td>\n",
       "      <td>misc_pos</td>\n",
       "      <td>41.96</td>\n",
       "      <td>M</td>\n",
       "      <td>Doe Hill</td>\n",
       "      <td>VA</td>\n",
       "      <td>24433</td>\n",
       "      <td>1986-03-28</td>\n",
       "      <td>0</td>\n",
       "    </tr>\n",
       "  </tbody>\n",
       "</table>\n",
       "</div>"
      ],
      "text/plain": [
       "  trans_date_trans_time       category     amt gender            city state  \\\n",
       "0   2019-01-01 00:00:18       misc_net    4.97      F  Moravian Falls    NC   \n",
       "1   2019-01-01 00:00:44    grocery_pos  107.23      F          Orient    WA   \n",
       "2   2019-01-01 00:00:51  entertainment  220.11      M      Malad City    ID   \n",
       "3   2019-01-01 00:01:16  gas_transport   45.00      M         Boulder    MT   \n",
       "4   2019-01-01 00:03:06       misc_pos   41.96      M        Doe Hill    VA   \n",
       "\n",
       "     zip         dob  is_fraud  \n",
       "0  28654  1988-03-09         0  \n",
       "1  99160  1978-06-21         0  \n",
       "2  83252  1962-01-19         0  \n",
       "3  59632  1967-01-12         0  \n",
       "4  24433  1986-03-28         0  "
      ]
     },
     "execution_count": 6,
     "metadata": {},
     "output_type": "execute_result"
    }
   ],
   "source": [
    "train.head()"
   ]
  },
  {
   "cell_type": "code",
   "execution_count": 7,
   "id": "d3014beb",
   "metadata": {
    "execution": {
     "iopub.execute_input": "2022-09-14T09:46:47.666398Z",
     "iopub.status.busy": "2022-09-14T09:46:47.666026Z",
     "iopub.status.idle": "2022-09-14T09:46:47.955840Z",
     "shell.execute_reply": "2022-09-14T09:46:47.954411Z"
    },
    "papermill": {
     "duration": 0.302801,
     "end_time": "2022-09-14T09:46:47.958500",
     "exception": false,
     "start_time": "2022-09-14T09:46:47.655699",
     "status": "completed"
    },
    "tags": []
   },
   "outputs": [
    {
     "name": "stdout",
     "output_type": "stream",
     "text": [
      "<class 'pandas.core.frame.DataFrame'>\n",
      "RangeIndex: 1296675 entries, 0 to 1296674\n",
      "Data columns (total 9 columns):\n",
      " #   Column                 Non-Null Count    Dtype  \n",
      "---  ------                 --------------    -----  \n",
      " 0   trans_date_trans_time  1296675 non-null  object \n",
      " 1   category               1296675 non-null  object \n",
      " 2   amt                    1296675 non-null  float64\n",
      " 3   gender                 1296675 non-null  object \n",
      " 4   city                   1296675 non-null  object \n",
      " 5   state                  1296675 non-null  object \n",
      " 6   zip                    1296675 non-null  int64  \n",
      " 7   dob                    1296675 non-null  object \n",
      " 8   is_fraud               1296675 non-null  int64  \n",
      "dtypes: float64(1), int64(2), object(6)\n",
      "memory usage: 89.0+ MB\n"
     ]
    }
   ],
   "source": [
    "train.info()"
   ]
  },
  {
   "cell_type": "code",
   "execution_count": 8,
   "id": "c9c935b0",
   "metadata": {
    "execution": {
     "iopub.execute_input": "2022-09-14T09:46:47.980307Z",
     "iopub.status.busy": "2022-09-14T09:46:47.979423Z",
     "iopub.status.idle": "2022-09-14T09:46:48.095283Z",
     "shell.execute_reply": "2022-09-14T09:46:48.094268Z"
    },
    "papermill": {
     "duration": 0.129754,
     "end_time": "2022-09-14T09:46:48.098054",
     "exception": false,
     "start_time": "2022-09-14T09:46:47.968300",
     "status": "completed"
    },
    "tags": []
   },
   "outputs": [
    {
     "data": {
      "text/html": [
       "<div>\n",
       "<style scoped>\n",
       "    .dataframe tbody tr th:only-of-type {\n",
       "        vertical-align: middle;\n",
       "    }\n",
       "\n",
       "    .dataframe tbody tr th {\n",
       "        vertical-align: top;\n",
       "    }\n",
       "\n",
       "    .dataframe thead th {\n",
       "        text-align: right;\n",
       "    }\n",
       "</style>\n",
       "<table border=\"1\" class=\"dataframe\">\n",
       "  <thead>\n",
       "    <tr style=\"text-align: right;\">\n",
       "      <th></th>\n",
       "      <th>amt</th>\n",
       "      <th>zip</th>\n",
       "      <th>is_fraud</th>\n",
       "    </tr>\n",
       "  </thead>\n",
       "  <tbody>\n",
       "    <tr>\n",
       "      <th>count</th>\n",
       "      <td>1.296675e+06</td>\n",
       "      <td>1.296675e+06</td>\n",
       "      <td>1.296675e+06</td>\n",
       "    </tr>\n",
       "    <tr>\n",
       "      <th>mean</th>\n",
       "      <td>7.035104e+01</td>\n",
       "      <td>4.880067e+04</td>\n",
       "      <td>5.788652e-03</td>\n",
       "    </tr>\n",
       "    <tr>\n",
       "      <th>std</th>\n",
       "      <td>1.603160e+02</td>\n",
       "      <td>2.689322e+04</td>\n",
       "      <td>7.586269e-02</td>\n",
       "    </tr>\n",
       "    <tr>\n",
       "      <th>min</th>\n",
       "      <td>1.000000e+00</td>\n",
       "      <td>1.257000e+03</td>\n",
       "      <td>0.000000e+00</td>\n",
       "    </tr>\n",
       "    <tr>\n",
       "      <th>25%</th>\n",
       "      <td>9.650000e+00</td>\n",
       "      <td>2.623700e+04</td>\n",
       "      <td>0.000000e+00</td>\n",
       "    </tr>\n",
       "    <tr>\n",
       "      <th>50%</th>\n",
       "      <td>4.752000e+01</td>\n",
       "      <td>4.817400e+04</td>\n",
       "      <td>0.000000e+00</td>\n",
       "    </tr>\n",
       "    <tr>\n",
       "      <th>75%</th>\n",
       "      <td>8.314000e+01</td>\n",
       "      <td>7.204200e+04</td>\n",
       "      <td>0.000000e+00</td>\n",
       "    </tr>\n",
       "    <tr>\n",
       "      <th>max</th>\n",
       "      <td>2.894890e+04</td>\n",
       "      <td>9.978300e+04</td>\n",
       "      <td>1.000000e+00</td>\n",
       "    </tr>\n",
       "  </tbody>\n",
       "</table>\n",
       "</div>"
      ],
      "text/plain": [
       "                amt           zip      is_fraud\n",
       "count  1.296675e+06  1.296675e+06  1.296675e+06\n",
       "mean   7.035104e+01  4.880067e+04  5.788652e-03\n",
       "std    1.603160e+02  2.689322e+04  7.586269e-02\n",
       "min    1.000000e+00  1.257000e+03  0.000000e+00\n",
       "25%    9.650000e+00  2.623700e+04  0.000000e+00\n",
       "50%    4.752000e+01  4.817400e+04  0.000000e+00\n",
       "75%    8.314000e+01  7.204200e+04  0.000000e+00\n",
       "max    2.894890e+04  9.978300e+04  1.000000e+00"
      ]
     },
     "execution_count": 8,
     "metadata": {},
     "output_type": "execute_result"
    }
   ],
   "source": [
    "train.describe()"
   ]
  },
  {
   "cell_type": "code",
   "execution_count": 9,
   "id": "6325fddf",
   "metadata": {
    "execution": {
     "iopub.execute_input": "2022-09-14T09:46:48.118811Z",
     "iopub.status.busy": "2022-09-14T09:46:48.118211Z",
     "iopub.status.idle": "2022-09-14T09:46:48.393270Z",
     "shell.execute_reply": "2022-09-14T09:46:48.392376Z"
    },
    "papermill": {
     "duration": 0.287602,
     "end_time": "2022-09-14T09:46:48.395264",
     "exception": false,
     "start_time": "2022-09-14T09:46:48.107662",
     "status": "completed"
    },
    "tags": []
   },
   "outputs": [
    {
     "data": {
      "text/plain": [
       "trans_date_trans_time    0\n",
       "category                 0\n",
       "amt                      0\n",
       "gender                   0\n",
       "city                     0\n",
       "state                    0\n",
       "zip                      0\n",
       "dob                      0\n",
       "is_fraud                 0\n",
       "dtype: int64"
      ]
     },
     "execution_count": 9,
     "metadata": {},
     "output_type": "execute_result"
    }
   ],
   "source": [
    "#Check for missing values for train\n",
    "train.isnull().sum()"
   ]
  },
  {
   "cell_type": "code",
   "execution_count": 10,
   "id": "1cd03e52",
   "metadata": {
    "execution": {
     "iopub.execute_input": "2022-09-14T09:46:48.415657Z",
     "iopub.status.busy": "2022-09-14T09:46:48.415272Z",
     "iopub.status.idle": "2022-09-14T09:46:48.703944Z",
     "shell.execute_reply": "2022-09-14T09:46:48.702477Z"
    },
    "papermill": {
     "duration": 0.301502,
     "end_time": "2022-09-14T09:46:48.706284",
     "exception": false,
     "start_time": "2022-09-14T09:46:48.404782",
     "status": "completed"
    },
    "tags": []
   },
   "outputs": [],
   "source": [
    "train['trans_date_trans_time'] = pd.to_datetime(train['trans_date_trans_time'])"
   ]
  },
  {
   "cell_type": "code",
   "execution_count": 11,
   "id": "b904bc40",
   "metadata": {
    "execution": {
     "iopub.execute_input": "2022-09-14T09:46:48.727367Z",
     "iopub.status.busy": "2022-09-14T09:46:48.726141Z",
     "iopub.status.idle": "2022-09-14T09:46:48.950940Z",
     "shell.execute_reply": "2022-09-14T09:46:48.949854Z"
    },
    "papermill": {
     "duration": 0.237582,
     "end_time": "2022-09-14T09:46:48.953322",
     "exception": false,
     "start_time": "2022-09-14T09:46:48.715740",
     "status": "completed"
    },
    "tags": []
   },
   "outputs": [],
   "source": [
    "train['dob'] = pd.to_datetime(train['dob'], errors='coerce')"
   ]
  },
  {
   "cell_type": "code",
   "execution_count": 12,
   "id": "daa1d3c3",
   "metadata": {
    "execution": {
     "iopub.execute_input": "2022-09-14T09:46:48.974843Z",
     "iopub.status.busy": "2022-09-14T09:46:48.974132Z",
     "iopub.status.idle": "2022-09-14T09:46:49.019812Z",
     "shell.execute_reply": "2022-09-14T09:46:49.018467Z"
    },
    "papermill": {
     "duration": 0.059214,
     "end_time": "2022-09-14T09:46:49.022253",
     "exception": false,
     "start_time": "2022-09-14T09:46:48.963039",
     "status": "completed"
    },
    "tags": []
   },
   "outputs": [],
   "source": [
    "from datetime import datetime\n",
    "\n",
    "train['age']=(datetime.today()-train['dob']).dt.days/365.25\n",
    "train['age']=train['age'].astype(int)"
   ]
  },
  {
   "cell_type": "code",
   "execution_count": 13,
   "id": "95fa4369",
   "metadata": {
    "execution": {
     "iopub.execute_input": "2022-09-14T09:46:49.042406Z",
     "iopub.status.busy": "2022-09-14T09:46:49.042036Z",
     "iopub.status.idle": "2022-09-14T09:46:49.129915Z",
     "shell.execute_reply": "2022-09-14T09:46:49.129000Z"
    },
    "papermill": {
     "duration": 0.100476,
     "end_time": "2022-09-14T09:46:49.132129",
     "exception": false,
     "start_time": "2022-09-14T09:46:49.031653",
     "status": "completed"
    },
    "tags": []
   },
   "outputs": [],
   "source": [
    "train.drop(['dob'], axis=1, inplace=True)"
   ]
  },
  {
   "cell_type": "code",
   "execution_count": 14,
   "id": "eedc87fb",
   "metadata": {
    "execution": {
     "iopub.execute_input": "2022-09-14T09:46:49.152487Z",
     "iopub.status.busy": "2022-09-14T09:46:49.152112Z",
     "iopub.status.idle": "2022-09-14T09:46:49.166580Z",
     "shell.execute_reply": "2022-09-14T09:46:49.165460Z"
    },
    "papermill": {
     "duration": 0.027045,
     "end_time": "2022-09-14T09:46:49.168635",
     "exception": false,
     "start_time": "2022-09-14T09:46:49.141590",
     "status": "completed"
    },
    "tags": []
   },
   "outputs": [
    {
     "data": {
      "text/html": [
       "<div>\n",
       "<style scoped>\n",
       "    .dataframe tbody tr th:only-of-type {\n",
       "        vertical-align: middle;\n",
       "    }\n",
       "\n",
       "    .dataframe tbody tr th {\n",
       "        vertical-align: top;\n",
       "    }\n",
       "\n",
       "    .dataframe thead th {\n",
       "        text-align: right;\n",
       "    }\n",
       "</style>\n",
       "<table border=\"1\" class=\"dataframe\">\n",
       "  <thead>\n",
       "    <tr style=\"text-align: right;\">\n",
       "      <th></th>\n",
       "      <th>trans_date_trans_time</th>\n",
       "      <th>category</th>\n",
       "      <th>amt</th>\n",
       "      <th>gender</th>\n",
       "      <th>city</th>\n",
       "      <th>state</th>\n",
       "      <th>zip</th>\n",
       "      <th>is_fraud</th>\n",
       "      <th>age</th>\n",
       "    </tr>\n",
       "  </thead>\n",
       "  <tbody>\n",
       "    <tr>\n",
       "      <th>0</th>\n",
       "      <td>2019-01-01 00:00:18</td>\n",
       "      <td>misc_net</td>\n",
       "      <td>4.97</td>\n",
       "      <td>F</td>\n",
       "      <td>Moravian Falls</td>\n",
       "      <td>NC</td>\n",
       "      <td>28654</td>\n",
       "      <td>0</td>\n",
       "      <td>34</td>\n",
       "    </tr>\n",
       "    <tr>\n",
       "      <th>1</th>\n",
       "      <td>2019-01-01 00:00:44</td>\n",
       "      <td>grocery_pos</td>\n",
       "      <td>107.23</td>\n",
       "      <td>F</td>\n",
       "      <td>Orient</td>\n",
       "      <td>WA</td>\n",
       "      <td>99160</td>\n",
       "      <td>0</td>\n",
       "      <td>44</td>\n",
       "    </tr>\n",
       "    <tr>\n",
       "      <th>2</th>\n",
       "      <td>2019-01-01 00:00:51</td>\n",
       "      <td>entertainment</td>\n",
       "      <td>220.11</td>\n",
       "      <td>M</td>\n",
       "      <td>Malad City</td>\n",
       "      <td>ID</td>\n",
       "      <td>83252</td>\n",
       "      <td>0</td>\n",
       "      <td>60</td>\n",
       "    </tr>\n",
       "    <tr>\n",
       "      <th>3</th>\n",
       "      <td>2019-01-01 00:01:16</td>\n",
       "      <td>gas_transport</td>\n",
       "      <td>45.00</td>\n",
       "      <td>M</td>\n",
       "      <td>Boulder</td>\n",
       "      <td>MT</td>\n",
       "      <td>59632</td>\n",
       "      <td>0</td>\n",
       "      <td>55</td>\n",
       "    </tr>\n",
       "    <tr>\n",
       "      <th>4</th>\n",
       "      <td>2019-01-01 00:03:06</td>\n",
       "      <td>misc_pos</td>\n",
       "      <td>41.96</td>\n",
       "      <td>M</td>\n",
       "      <td>Doe Hill</td>\n",
       "      <td>VA</td>\n",
       "      <td>24433</td>\n",
       "      <td>0</td>\n",
       "      <td>36</td>\n",
       "    </tr>\n",
       "  </tbody>\n",
       "</table>\n",
       "</div>"
      ],
      "text/plain": [
       "  trans_date_trans_time       category     amt gender            city state  \\\n",
       "0   2019-01-01 00:00:18       misc_net    4.97      F  Moravian Falls    NC   \n",
       "1   2019-01-01 00:00:44    grocery_pos  107.23      F          Orient    WA   \n",
       "2   2019-01-01 00:00:51  entertainment  220.11      M      Malad City    ID   \n",
       "3   2019-01-01 00:01:16  gas_transport   45.00      M         Boulder    MT   \n",
       "4   2019-01-01 00:03:06       misc_pos   41.96      M        Doe Hill    VA   \n",
       "\n",
       "     zip  is_fraud  age  \n",
       "0  28654         0   34  \n",
       "1  99160         0   44  \n",
       "2  83252         0   60  \n",
       "3  59632         0   55  \n",
       "4  24433         0   36  "
      ]
     },
     "execution_count": 14,
     "metadata": {},
     "output_type": "execute_result"
    }
   ],
   "source": [
    "train.head()"
   ]
  },
  {
   "cell_type": "code",
   "execution_count": 15,
   "id": "9ff49672",
   "metadata": {
    "execution": {
     "iopub.execute_input": "2022-09-14T09:46:49.190481Z",
     "iopub.status.busy": "2022-09-14T09:46:49.190069Z",
     "iopub.status.idle": "2022-09-14T09:46:49.288719Z",
     "shell.execute_reply": "2022-09-14T09:46:49.287614Z"
    },
    "papermill": {
     "duration": 0.112295,
     "end_time": "2022-09-14T09:46:49.290559",
     "exception": false,
     "start_time": "2022-09-14T09:46:49.178264",
     "status": "completed"
    },
    "tags": []
   },
   "outputs": [
    {
     "data": {
      "text/html": [
       "<div>\n",
       "<style scoped>\n",
       "    .dataframe tbody tr th:only-of-type {\n",
       "        vertical-align: middle;\n",
       "    }\n",
       "\n",
       "    .dataframe tbody tr th {\n",
       "        vertical-align: top;\n",
       "    }\n",
       "\n",
       "    .dataframe thead th {\n",
       "        text-align: right;\n",
       "    }\n",
       "</style>\n",
       "<table border=\"1\" class=\"dataframe\">\n",
       "  <thead>\n",
       "    <tr style=\"text-align: right;\">\n",
       "      <th></th>\n",
       "      <th>trans_date_trans_time</th>\n",
       "      <th>category</th>\n",
       "      <th>amt</th>\n",
       "      <th>gender</th>\n",
       "      <th>city</th>\n",
       "      <th>state</th>\n",
       "      <th>zip</th>\n",
       "      <th>is_fraud</th>\n",
       "      <th>age</th>\n",
       "    </tr>\n",
       "  </thead>\n",
       "  <tbody>\n",
       "    <tr>\n",
       "      <th>2449</th>\n",
       "      <td>2019-01-02 01:06:37</td>\n",
       "      <td>grocery_pos</td>\n",
       "      <td>281.06</td>\n",
       "      <td>M</td>\n",
       "      <td>Collettsville</td>\n",
       "      <td>NC</td>\n",
       "      <td>28611</td>\n",
       "      <td>1</td>\n",
       "      <td>33</td>\n",
       "    </tr>\n",
       "    <tr>\n",
       "      <th>2546</th>\n",
       "      <td>2019-01-02 03:38:03</td>\n",
       "      <td>gas_transport</td>\n",
       "      <td>7.03</td>\n",
       "      <td>M</td>\n",
       "      <td>Collettsville</td>\n",
       "      <td>NC</td>\n",
       "      <td>28611</td>\n",
       "      <td>1</td>\n",
       "      <td>33</td>\n",
       "    </tr>\n",
       "    <tr>\n",
       "      <th>2937</th>\n",
       "      <td>2019-01-02 13:38:08</td>\n",
       "      <td>shopping_net</td>\n",
       "      <td>844.80</td>\n",
       "      <td>M</td>\n",
       "      <td>Collettsville</td>\n",
       "      <td>NC</td>\n",
       "      <td>28611</td>\n",
       "      <td>1</td>\n",
       "      <td>33</td>\n",
       "    </tr>\n",
       "    <tr>\n",
       "      <th>3527</th>\n",
       "      <td>2019-01-02 23:52:08</td>\n",
       "      <td>misc_net</td>\n",
       "      <td>843.91</td>\n",
       "      <td>M</td>\n",
       "      <td>Collettsville</td>\n",
       "      <td>NC</td>\n",
       "      <td>28611</td>\n",
       "      <td>1</td>\n",
       "      <td>33</td>\n",
       "    </tr>\n",
       "    <tr>\n",
       "      <th>4654</th>\n",
       "      <td>2019-01-03 22:21:15</td>\n",
       "      <td>shopping_net</td>\n",
       "      <td>942.62</td>\n",
       "      <td>M</td>\n",
       "      <td>Collettsville</td>\n",
       "      <td>NC</td>\n",
       "      <td>28611</td>\n",
       "      <td>1</td>\n",
       "      <td>33</td>\n",
       "    </tr>\n",
       "    <tr>\n",
       "      <th>...</th>\n",
       "      <td>...</td>\n",
       "      <td>...</td>\n",
       "      <td>...</td>\n",
       "      <td>...</td>\n",
       "      <td>...</td>\n",
       "      <td>...</td>\n",
       "      <td>...</td>\n",
       "      <td>...</td>\n",
       "      <td>...</td>\n",
       "    </tr>\n",
       "    <tr>\n",
       "      <th>1295103</th>\n",
       "      <td>2020-06-20 22:28:18</td>\n",
       "      <td>misc_net</td>\n",
       "      <td>735.19</td>\n",
       "      <td>M</td>\n",
       "      <td>Benton</td>\n",
       "      <td>WI</td>\n",
       "      <td>53803</td>\n",
       "      <td>1</td>\n",
       "      <td>64</td>\n",
       "    </tr>\n",
       "    <tr>\n",
       "      <th>1295219</th>\n",
       "      <td>2020-06-20 23:17:07</td>\n",
       "      <td>grocery_pos</td>\n",
       "      <td>307.71</td>\n",
       "      <td>M</td>\n",
       "      <td>Benton</td>\n",
       "      <td>WI</td>\n",
       "      <td>53803</td>\n",
       "      <td>1</td>\n",
       "      <td>64</td>\n",
       "    </tr>\n",
       "    <tr>\n",
       "      <th>1295274</th>\n",
       "      <td>2020-06-20 23:40:26</td>\n",
       "      <td>misc_net</td>\n",
       "      <td>725.60</td>\n",
       "      <td>M</td>\n",
       "      <td>Benton</td>\n",
       "      <td>WI</td>\n",
       "      <td>53803</td>\n",
       "      <td>1</td>\n",
       "      <td>64</td>\n",
       "    </tr>\n",
       "    <tr>\n",
       "      <th>1295532</th>\n",
       "      <td>2020-06-21 02:16:56</td>\n",
       "      <td>gas_transport</td>\n",
       "      <td>10.24</td>\n",
       "      <td>M</td>\n",
       "      <td>Denham Springs</td>\n",
       "      <td>LA</td>\n",
       "      <td>70726</td>\n",
       "      <td>1</td>\n",
       "      <td>28</td>\n",
       "    </tr>\n",
       "    <tr>\n",
       "      <th>1295733</th>\n",
       "      <td>2020-06-21 03:59:46</td>\n",
       "      <td>gas_transport</td>\n",
       "      <td>10.20</td>\n",
       "      <td>M</td>\n",
       "      <td>Denham Springs</td>\n",
       "      <td>LA</td>\n",
       "      <td>70726</td>\n",
       "      <td>1</td>\n",
       "      <td>28</td>\n",
       "    </tr>\n",
       "  </tbody>\n",
       "</table>\n",
       "<p>3771 rows × 9 columns</p>\n",
       "</div>"
      ],
      "text/plain": [
       "        trans_date_trans_time       category     amt gender            city  \\\n",
       "2449      2019-01-02 01:06:37    grocery_pos  281.06      M   Collettsville   \n",
       "2546      2019-01-02 03:38:03  gas_transport    7.03      M   Collettsville   \n",
       "2937      2019-01-02 13:38:08   shopping_net  844.80      M   Collettsville   \n",
       "3527      2019-01-02 23:52:08       misc_net  843.91      M   Collettsville   \n",
       "4654      2019-01-03 22:21:15   shopping_net  942.62      M   Collettsville   \n",
       "...                       ...            ...     ...    ...             ...   \n",
       "1295103   2020-06-20 22:28:18       misc_net  735.19      M          Benton   \n",
       "1295219   2020-06-20 23:17:07    grocery_pos  307.71      M          Benton   \n",
       "1295274   2020-06-20 23:40:26       misc_net  725.60      M          Benton   \n",
       "1295532   2020-06-21 02:16:56  gas_transport   10.24      M  Denham Springs   \n",
       "1295733   2020-06-21 03:59:46  gas_transport   10.20      M  Denham Springs   \n",
       "\n",
       "        state    zip  is_fraud  age  \n",
       "2449       NC  28611         1   33  \n",
       "2546       NC  28611         1   33  \n",
       "2937       NC  28611         1   33  \n",
       "3527       NC  28611         1   33  \n",
       "4654       NC  28611         1   33  \n",
       "...       ...    ...       ...  ...  \n",
       "1295103    WI  53803         1   64  \n",
       "1295219    WI  53803         1   64  \n",
       "1295274    WI  53803         1   64  \n",
       "1295532    LA  70726         1   28  \n",
       "1295733    LA  70726         1   28  \n",
       "\n",
       "[3771 rows x 9 columns]"
      ]
     },
     "execution_count": 15,
     "metadata": {},
     "output_type": "execute_result"
    }
   ],
   "source": [
    "train[(train['gender'] == 'M') & (train['is_fraud'] ==1)]"
   ]
  },
  {
   "cell_type": "code",
   "execution_count": 16,
   "id": "01bab387",
   "metadata": {
    "execution": {
     "iopub.execute_input": "2022-09-14T09:46:49.312992Z",
     "iopub.status.busy": "2022-09-14T09:46:49.312612Z",
     "iopub.status.idle": "2022-09-14T09:46:49.406827Z",
     "shell.execute_reply": "2022-09-14T09:46:49.405540Z"
    },
    "papermill": {
     "duration": 0.107944,
     "end_time": "2022-09-14T09:46:49.409669",
     "exception": false,
     "start_time": "2022-09-14T09:46:49.301725",
     "status": "completed"
    },
    "tags": []
   },
   "outputs": [
    {
     "data": {
      "text/html": [
       "<div>\n",
       "<style scoped>\n",
       "    .dataframe tbody tr th:only-of-type {\n",
       "        vertical-align: middle;\n",
       "    }\n",
       "\n",
       "    .dataframe tbody tr th {\n",
       "        vertical-align: top;\n",
       "    }\n",
       "\n",
       "    .dataframe thead th {\n",
       "        text-align: right;\n",
       "    }\n",
       "</style>\n",
       "<table border=\"1\" class=\"dataframe\">\n",
       "  <thead>\n",
       "    <tr style=\"text-align: right;\">\n",
       "      <th></th>\n",
       "      <th>trans_date_trans_time</th>\n",
       "      <th>category</th>\n",
       "      <th>amt</th>\n",
       "      <th>gender</th>\n",
       "      <th>city</th>\n",
       "      <th>state</th>\n",
       "      <th>zip</th>\n",
       "      <th>is_fraud</th>\n",
       "      <th>age</th>\n",
       "    </tr>\n",
       "  </thead>\n",
       "  <tbody>\n",
       "    <tr>\n",
       "      <th>2472</th>\n",
       "      <td>2019-01-02 01:47:29</td>\n",
       "      <td>gas_transport</td>\n",
       "      <td>11.52</td>\n",
       "      <td>F</td>\n",
       "      <td>San Antonio</td>\n",
       "      <td>TX</td>\n",
       "      <td>78208</td>\n",
       "      <td>1</td>\n",
       "      <td>61</td>\n",
       "    </tr>\n",
       "    <tr>\n",
       "      <th>2523</th>\n",
       "      <td>2019-01-02 03:05:23</td>\n",
       "      <td>grocery_pos</td>\n",
       "      <td>276.31</td>\n",
       "      <td>F</td>\n",
       "      <td>San Antonio</td>\n",
       "      <td>TX</td>\n",
       "      <td>78208</td>\n",
       "      <td>1</td>\n",
       "      <td>61</td>\n",
       "    </tr>\n",
       "    <tr>\n",
       "      <th>2553</th>\n",
       "      <td>2019-01-02 03:55:47</td>\n",
       "      <td>grocery_pos</td>\n",
       "      <td>275.73</td>\n",
       "      <td>F</td>\n",
       "      <td>San Antonio</td>\n",
       "      <td>TX</td>\n",
       "      <td>78208</td>\n",
       "      <td>1</td>\n",
       "      <td>61</td>\n",
       "    </tr>\n",
       "    <tr>\n",
       "      <th>3580</th>\n",
       "      <td>2019-01-03 01:05:27</td>\n",
       "      <td>gas_transport</td>\n",
       "      <td>10.76</td>\n",
       "      <td>F</td>\n",
       "      <td>San Antonio</td>\n",
       "      <td>TX</td>\n",
       "      <td>78208</td>\n",
       "      <td>1</td>\n",
       "      <td>61</td>\n",
       "    </tr>\n",
       "    <tr>\n",
       "      <th>3600</th>\n",
       "      <td>2019-01-03 01:35:52</td>\n",
       "      <td>grocery_pos</td>\n",
       "      <td>332.35</td>\n",
       "      <td>F</td>\n",
       "      <td>San Antonio</td>\n",
       "      <td>TX</td>\n",
       "      <td>78208</td>\n",
       "      <td>1</td>\n",
       "      <td>61</td>\n",
       "    </tr>\n",
       "    <tr>\n",
       "      <th>...</th>\n",
       "      <td>...</td>\n",
       "      <td>...</td>\n",
       "      <td>...</td>\n",
       "      <td>...</td>\n",
       "      <td>...</td>\n",
       "      <td>...</td>\n",
       "      <td>...</td>\n",
       "      <td>...</td>\n",
       "      <td>...</td>\n",
       "    </tr>\n",
       "    <tr>\n",
       "      <th>1295314</th>\n",
       "      <td>2020-06-21 00:05:03</td>\n",
       "      <td>grocery_net</td>\n",
       "      <td>15.87</td>\n",
       "      <td>F</td>\n",
       "      <td>Notrees</td>\n",
       "      <td>TX</td>\n",
       "      <td>79759</td>\n",
       "      <td>1</td>\n",
       "      <td>52</td>\n",
       "    </tr>\n",
       "    <tr>\n",
       "      <th>1295315</th>\n",
       "      <td>2020-06-21 00:07:09</td>\n",
       "      <td>misc_pos</td>\n",
       "      <td>9.18</td>\n",
       "      <td>F</td>\n",
       "      <td>Vero Beach</td>\n",
       "      <td>FL</td>\n",
       "      <td>32960</td>\n",
       "      <td>1</td>\n",
       "      <td>36</td>\n",
       "    </tr>\n",
       "    <tr>\n",
       "      <th>1295399</th>\n",
       "      <td>2020-06-21 01:00:08</td>\n",
       "      <td>shopping_net</td>\n",
       "      <td>977.01</td>\n",
       "      <td>F</td>\n",
       "      <td>Vero Beach</td>\n",
       "      <td>FL</td>\n",
       "      <td>32960</td>\n",
       "      <td>1</td>\n",
       "      <td>36</td>\n",
       "    </tr>\n",
       "    <tr>\n",
       "      <th>1295491</th>\n",
       "      <td>2020-06-21 01:53:35</td>\n",
       "      <td>shopping_net</td>\n",
       "      <td>1210.91</td>\n",
       "      <td>F</td>\n",
       "      <td>Vero Beach</td>\n",
       "      <td>FL</td>\n",
       "      <td>32960</td>\n",
       "      <td>1</td>\n",
       "      <td>36</td>\n",
       "    </tr>\n",
       "    <tr>\n",
       "      <th>1295666</th>\n",
       "      <td>2020-06-21 03:26:20</td>\n",
       "      <td>gas_transport</td>\n",
       "      <td>21.69</td>\n",
       "      <td>F</td>\n",
       "      <td>Notrees</td>\n",
       "      <td>TX</td>\n",
       "      <td>79759</td>\n",
       "      <td>1</td>\n",
       "      <td>52</td>\n",
       "    </tr>\n",
       "  </tbody>\n",
       "</table>\n",
       "<p>3735 rows × 9 columns</p>\n",
       "</div>"
      ],
      "text/plain": [
       "        trans_date_trans_time       category      amt gender         city  \\\n",
       "2472      2019-01-02 01:47:29  gas_transport    11.52      F  San Antonio   \n",
       "2523      2019-01-02 03:05:23    grocery_pos   276.31      F  San Antonio   \n",
       "2553      2019-01-02 03:55:47    grocery_pos   275.73      F  San Antonio   \n",
       "3580      2019-01-03 01:05:27  gas_transport    10.76      F  San Antonio   \n",
       "3600      2019-01-03 01:35:52    grocery_pos   332.35      F  San Antonio   \n",
       "...                       ...            ...      ...    ...          ...   \n",
       "1295314   2020-06-21 00:05:03    grocery_net    15.87      F      Notrees   \n",
       "1295315   2020-06-21 00:07:09       misc_pos     9.18      F   Vero Beach   \n",
       "1295399   2020-06-21 01:00:08   shopping_net   977.01      F   Vero Beach   \n",
       "1295491   2020-06-21 01:53:35   shopping_net  1210.91      F   Vero Beach   \n",
       "1295666   2020-06-21 03:26:20  gas_transport    21.69      F      Notrees   \n",
       "\n",
       "        state    zip  is_fraud  age  \n",
       "2472       TX  78208         1   61  \n",
       "2523       TX  78208         1   61  \n",
       "2553       TX  78208         1   61  \n",
       "3580       TX  78208         1   61  \n",
       "3600       TX  78208         1   61  \n",
       "...       ...    ...       ...  ...  \n",
       "1295314    TX  79759         1   52  \n",
       "1295315    FL  32960         1   36  \n",
       "1295399    FL  32960         1   36  \n",
       "1295491    FL  32960         1   36  \n",
       "1295666    TX  79759         1   52  \n",
       "\n",
       "[3735 rows x 9 columns]"
      ]
     },
     "execution_count": 16,
     "metadata": {},
     "output_type": "execute_result"
    }
   ],
   "source": [
    "train[(train['gender'] == 'F') & (train['is_fraud'] ==1)]"
   ]
  },
  {
   "cell_type": "code",
   "execution_count": 17,
   "id": "b2acf502",
   "metadata": {
    "execution": {
     "iopub.execute_input": "2022-09-14T09:46:49.432528Z",
     "iopub.status.busy": "2022-09-14T09:46:49.432198Z",
     "iopub.status.idle": "2022-09-14T09:46:49.441429Z",
     "shell.execute_reply": "2022-09-14T09:46:49.439984Z"
    },
    "papermill": {
     "duration": 0.023837,
     "end_time": "2022-09-14T09:46:49.443882",
     "exception": false,
     "start_time": "2022-09-14T09:46:49.420045",
     "status": "completed"
    },
    "tags": []
   },
   "outputs": [],
   "source": [
    "train['amt'] = train['amt'].astype(np.int64)"
   ]
  },
  {
   "cell_type": "code",
   "execution_count": 18,
   "id": "8b4bab01",
   "metadata": {
    "execution": {
     "iopub.execute_input": "2022-09-14T09:46:49.465570Z",
     "iopub.status.busy": "2022-09-14T09:46:49.465166Z",
     "iopub.status.idle": "2022-09-14T09:46:49.479506Z",
     "shell.execute_reply": "2022-09-14T09:46:49.478571Z"
    },
    "papermill": {
     "duration": 0.027533,
     "end_time": "2022-09-14T09:46:49.481407",
     "exception": false,
     "start_time": "2022-09-14T09:46:49.453874",
     "status": "completed"
    },
    "tags": []
   },
   "outputs": [
    {
     "data": {
      "text/html": [
       "<div>\n",
       "<style scoped>\n",
       "    .dataframe tbody tr th:only-of-type {\n",
       "        vertical-align: middle;\n",
       "    }\n",
       "\n",
       "    .dataframe tbody tr th {\n",
       "        vertical-align: top;\n",
       "    }\n",
       "\n",
       "    .dataframe thead th {\n",
       "        text-align: right;\n",
       "    }\n",
       "</style>\n",
       "<table border=\"1\" class=\"dataframe\">\n",
       "  <thead>\n",
       "    <tr style=\"text-align: right;\">\n",
       "      <th></th>\n",
       "      <th>trans_date_trans_time</th>\n",
       "      <th>category</th>\n",
       "      <th>amt</th>\n",
       "      <th>gender</th>\n",
       "      <th>city</th>\n",
       "      <th>state</th>\n",
       "      <th>zip</th>\n",
       "      <th>is_fraud</th>\n",
       "      <th>age</th>\n",
       "    </tr>\n",
       "  </thead>\n",
       "  <tbody>\n",
       "    <tr>\n",
       "      <th>0</th>\n",
       "      <td>2019-01-01 00:00:18</td>\n",
       "      <td>misc_net</td>\n",
       "      <td>4</td>\n",
       "      <td>F</td>\n",
       "      <td>Moravian Falls</td>\n",
       "      <td>NC</td>\n",
       "      <td>28654</td>\n",
       "      <td>0</td>\n",
       "      <td>34</td>\n",
       "    </tr>\n",
       "    <tr>\n",
       "      <th>1</th>\n",
       "      <td>2019-01-01 00:00:44</td>\n",
       "      <td>grocery_pos</td>\n",
       "      <td>107</td>\n",
       "      <td>F</td>\n",
       "      <td>Orient</td>\n",
       "      <td>WA</td>\n",
       "      <td>99160</td>\n",
       "      <td>0</td>\n",
       "      <td>44</td>\n",
       "    </tr>\n",
       "    <tr>\n",
       "      <th>2</th>\n",
       "      <td>2019-01-01 00:00:51</td>\n",
       "      <td>entertainment</td>\n",
       "      <td>220</td>\n",
       "      <td>M</td>\n",
       "      <td>Malad City</td>\n",
       "      <td>ID</td>\n",
       "      <td>83252</td>\n",
       "      <td>0</td>\n",
       "      <td>60</td>\n",
       "    </tr>\n",
       "    <tr>\n",
       "      <th>3</th>\n",
       "      <td>2019-01-01 00:01:16</td>\n",
       "      <td>gas_transport</td>\n",
       "      <td>45</td>\n",
       "      <td>M</td>\n",
       "      <td>Boulder</td>\n",
       "      <td>MT</td>\n",
       "      <td>59632</td>\n",
       "      <td>0</td>\n",
       "      <td>55</td>\n",
       "    </tr>\n",
       "    <tr>\n",
       "      <th>4</th>\n",
       "      <td>2019-01-01 00:03:06</td>\n",
       "      <td>misc_pos</td>\n",
       "      <td>41</td>\n",
       "      <td>M</td>\n",
       "      <td>Doe Hill</td>\n",
       "      <td>VA</td>\n",
       "      <td>24433</td>\n",
       "      <td>0</td>\n",
       "      <td>36</td>\n",
       "    </tr>\n",
       "  </tbody>\n",
       "</table>\n",
       "</div>"
      ],
      "text/plain": [
       "  trans_date_trans_time       category  amt gender            city state  \\\n",
       "0   2019-01-01 00:00:18       misc_net    4      F  Moravian Falls    NC   \n",
       "1   2019-01-01 00:00:44    grocery_pos  107      F          Orient    WA   \n",
       "2   2019-01-01 00:00:51  entertainment  220      M      Malad City    ID   \n",
       "3   2019-01-01 00:01:16  gas_transport   45      M         Boulder    MT   \n",
       "4   2019-01-01 00:03:06       misc_pos   41      M        Doe Hill    VA   \n",
       "\n",
       "     zip  is_fraud  age  \n",
       "0  28654         0   34  \n",
       "1  99160         0   44  \n",
       "2  83252         0   60  \n",
       "3  59632         0   55  \n",
       "4  24433         0   36  "
      ]
     },
     "execution_count": 18,
     "metadata": {},
     "output_type": "execute_result"
    }
   ],
   "source": [
    "train.head()"
   ]
  },
  {
   "cell_type": "code",
   "execution_count": 19,
   "id": "bb5ab7c5",
   "metadata": {
    "execution": {
     "iopub.execute_input": "2022-09-14T09:46:49.504416Z",
     "iopub.status.busy": "2022-09-14T09:46:49.504022Z",
     "iopub.status.idle": "2022-09-14T09:46:49.693183Z",
     "shell.execute_reply": "2022-09-14T09:46:49.691649Z"
    },
    "papermill": {
     "duration": 0.203774,
     "end_time": "2022-09-14T09:46:49.695654",
     "exception": false,
     "start_time": "2022-09-14T09:46:49.491880",
     "status": "completed"
    },
    "tags": []
   },
   "outputs": [
    {
     "name": "stdout",
     "output_type": "stream",
     "text": [
      "<class 'pandas.core.frame.DataFrame'>\n",
      "RangeIndex: 1296675 entries, 0 to 1296674\n",
      "Data columns (total 9 columns):\n",
      " #   Column                 Non-Null Count    Dtype         \n",
      "---  ------                 --------------    -----         \n",
      " 0   trans_date_trans_time  1296675 non-null  datetime64[ns]\n",
      " 1   category               1296675 non-null  object        \n",
      " 2   amt                    1296675 non-null  int64         \n",
      " 3   gender                 1296675 non-null  object        \n",
      " 4   city                   1296675 non-null  object        \n",
      " 5   state                  1296675 non-null  object        \n",
      " 6   zip                    1296675 non-null  int64         \n",
      " 7   is_fraud               1296675 non-null  int64         \n",
      " 8   age                    1296675 non-null  int64         \n",
      "dtypes: datetime64[ns](1), int64(4), object(4)\n",
      "memory usage: 89.0+ MB\n"
     ]
    }
   ],
   "source": [
    "train.info()"
   ]
  },
  {
   "cell_type": "code",
   "execution_count": 20,
   "id": "db161220",
   "metadata": {
    "execution": {
     "iopub.execute_input": "2022-09-14T09:46:49.719026Z",
     "iopub.status.busy": "2022-09-14T09:46:49.718279Z",
     "iopub.status.idle": "2022-09-14T09:46:50.307942Z",
     "shell.execute_reply": "2022-09-14T09:46:50.306892Z"
    },
    "papermill": {
     "duration": 0.604082,
     "end_time": "2022-09-14T09:46:50.310530",
     "exception": false,
     "start_time": "2022-09-14T09:46:49.706448",
     "status": "completed"
    },
    "tags": []
   },
   "outputs": [],
   "source": [
    "#Label Encoding\n",
    "\n",
    "featured = [ 'trans_date_trans_time','category','gender','city','state']\n",
    "\n",
    "for feature in featured:\n",
    "  train[f\"{feature}_cat\"] = train[feature].astype('category')\n",
    "  train[f\"{feature}_cat\"] = train[f\"{feature}_cat\"].cat.codes"
   ]
  },
  {
   "cell_type": "code",
   "execution_count": 21,
   "id": "57b220cf",
   "metadata": {
    "execution": {
     "iopub.execute_input": "2022-09-14T09:46:50.333704Z",
     "iopub.status.busy": "2022-09-14T09:46:50.332963Z",
     "iopub.status.idle": "2022-09-14T09:46:50.376719Z",
     "shell.execute_reply": "2022-09-14T09:46:50.375083Z"
    },
    "papermill": {
     "duration": 0.058033,
     "end_time": "2022-09-14T09:46:50.379526",
     "exception": false,
     "start_time": "2022-09-14T09:46:50.321493",
     "status": "completed"
    },
    "tags": []
   },
   "outputs": [],
   "source": [
    "# Drop the reductant features since Label encoding have been done\n",
    "train.drop(['trans_date_trans_time','category','gender','city','state'], axis=1, inplace=True)"
   ]
  },
  {
   "cell_type": "code",
   "execution_count": 22,
   "id": "23f5a6ff",
   "metadata": {
    "execution": {
     "iopub.execute_input": "2022-09-14T09:46:50.402654Z",
     "iopub.status.busy": "2022-09-14T09:46:50.402172Z",
     "iopub.status.idle": "2022-09-14T09:46:51.195852Z",
     "shell.execute_reply": "2022-09-14T09:46:51.194891Z"
    },
    "papermill": {
     "duration": 0.80806,
     "end_time": "2022-09-14T09:46:51.198467",
     "exception": false,
     "start_time": "2022-09-14T09:46:50.390407",
     "status": "completed"
    },
    "tags": []
   },
   "outputs": [],
   "source": [
    "from sklearn.preprocessing import StandardScaler\n",
    "scaler=StandardScaler()"
   ]
  },
  {
   "cell_type": "code",
   "execution_count": 23,
   "id": "1fa6ee9c",
   "metadata": {
    "execution": {
     "iopub.execute_input": "2022-09-14T09:46:51.220799Z",
     "iopub.status.busy": "2022-09-14T09:46:51.220465Z",
     "iopub.status.idle": "2022-09-14T09:46:51.250282Z",
     "shell.execute_reply": "2022-09-14T09:46:51.248589Z"
    },
    "papermill": {
     "duration": 0.043976,
     "end_time": "2022-09-14T09:46:51.253043",
     "exception": false,
     "start_time": "2022-09-14T09:46:51.209067",
     "status": "completed"
    },
    "tags": []
   },
   "outputs": [],
   "source": [
    "#for all independent features\n",
    "x=train.drop(['is_fraud'], axis=1)"
   ]
  },
  {
   "cell_type": "code",
   "execution_count": 24,
   "id": "4f559c55",
   "metadata": {
    "execution": {
     "iopub.execute_input": "2022-09-14T09:46:51.280934Z",
     "iopub.status.busy": "2022-09-14T09:46:51.280103Z",
     "iopub.status.idle": "2022-09-14T09:46:51.285262Z",
     "shell.execute_reply": "2022-09-14T09:46:51.284352Z"
    },
    "papermill": {
     "duration": 0.021867,
     "end_time": "2022-09-14T09:46:51.287259",
     "exception": false,
     "start_time": "2022-09-14T09:46:51.265392",
     "status": "completed"
    },
    "tags": []
   },
   "outputs": [],
   "source": [
    "#for dependent feature\n",
    "y=train['is_fraud']"
   ]
  },
  {
   "cell_type": "code",
   "execution_count": 25,
   "id": "89d48f6d",
   "metadata": {
    "execution": {
     "iopub.execute_input": "2022-09-14T09:46:51.314485Z",
     "iopub.status.busy": "2022-09-14T09:46:51.314150Z",
     "iopub.status.idle": "2022-09-14T09:46:51.553418Z",
     "shell.execute_reply": "2022-09-14T09:46:51.552433Z"
    },
    "papermill": {
     "duration": 0.256622,
     "end_time": "2022-09-14T09:46:51.555886",
     "exception": false,
     "start_time": "2022-09-14T09:46:51.299264",
     "status": "completed"
    },
    "tags": []
   },
   "outputs": [],
   "source": [
    "from sklearn.model_selection import train_test_split\n",
    "\n",
    "train_x, test_x, train_y, test_y = train_test_split(x,y, test_size= 0.3, random_state= 1)"
   ]
  },
  {
   "cell_type": "code",
   "execution_count": 26,
   "id": "59200b76",
   "metadata": {
    "execution": {
     "iopub.execute_input": "2022-09-14T09:46:51.578056Z",
     "iopub.status.busy": "2022-09-14T09:46:51.577275Z",
     "iopub.status.idle": "2022-09-14T09:46:51.583566Z",
     "shell.execute_reply": "2022-09-14T09:46:51.582668Z"
    },
    "papermill": {
     "duration": 0.019318,
     "end_time": "2022-09-14T09:46:51.585526",
     "exception": false,
     "start_time": "2022-09-14T09:46:51.566208",
     "status": "completed"
    },
    "tags": []
   },
   "outputs": [
    {
     "data": {
      "text/plain": [
       "(907672, 8)"
      ]
     },
     "execution_count": 26,
     "metadata": {},
     "output_type": "execute_result"
    }
   ],
   "source": [
    "train_x.shape"
   ]
  },
  {
   "cell_type": "code",
   "execution_count": 27,
   "id": "82690138",
   "metadata": {
    "execution": {
     "iopub.execute_input": "2022-09-14T09:46:51.607632Z",
     "iopub.status.busy": "2022-09-14T09:46:51.607045Z",
     "iopub.status.idle": "2022-09-14T09:46:51.612778Z",
     "shell.execute_reply": "2022-09-14T09:46:51.612123Z"
    },
    "papermill": {
     "duration": 0.018534,
     "end_time": "2022-09-14T09:46:51.614408",
     "exception": false,
     "start_time": "2022-09-14T09:46:51.595874",
     "status": "completed"
    },
    "tags": []
   },
   "outputs": [
    {
     "data": {
      "text/plain": [
       "(389003, 8)"
      ]
     },
     "execution_count": 27,
     "metadata": {},
     "output_type": "execute_result"
    }
   ],
   "source": [
    "test_x.shape"
   ]
  },
  {
   "cell_type": "code",
   "execution_count": 28,
   "id": "2177031c",
   "metadata": {
    "execution": {
     "iopub.execute_input": "2022-09-14T09:46:51.636557Z",
     "iopub.status.busy": "2022-09-14T09:46:51.635996Z",
     "iopub.status.idle": "2022-09-14T09:46:51.789410Z",
     "shell.execute_reply": "2022-09-14T09:46:51.788740Z"
    },
    "papermill": {
     "duration": 0.166758,
     "end_time": "2022-09-14T09:46:51.791448",
     "exception": false,
     "start_time": "2022-09-14T09:46:51.624690",
     "status": "completed"
    },
    "tags": []
   },
   "outputs": [],
   "source": [
    "#create the model\n",
    "from sklearn.ensemble import RandomForestClassifier\n",
    "\n",
    "rf1=RandomForestClassifier(n_estimators= 100)"
   ]
  },
  {
   "cell_type": "code",
   "execution_count": 29,
   "id": "8d0dba5d",
   "metadata": {
    "execution": {
     "iopub.execute_input": "2022-09-14T09:46:51.813559Z",
     "iopub.status.busy": "2022-09-14T09:46:51.812996Z",
     "iopub.status.idle": "2022-09-14T09:50:55.979735Z",
     "shell.execute_reply": "2022-09-14T09:50:55.978327Z"
    },
    "papermill": {
     "duration": 244.189863,
     "end_time": "2022-09-14T09:50:55.991652",
     "exception": false,
     "start_time": "2022-09-14T09:46:51.801789",
     "status": "completed"
    },
    "tags": []
   },
   "outputs": [
    {
     "data": {
      "text/plain": [
       "RandomForestClassifier()"
      ]
     },
     "execution_count": 29,
     "metadata": {},
     "output_type": "execute_result"
    }
   ],
   "source": [
    "rf1.fit(train_x,train_y)"
   ]
  },
  {
   "cell_type": "code",
   "execution_count": 30,
   "id": "768a5931",
   "metadata": {
    "execution": {
     "iopub.execute_input": "2022-09-14T09:50:56.014935Z",
     "iopub.status.busy": "2022-09-14T09:50:56.014199Z",
     "iopub.status.idle": "2022-09-14T09:51:00.474193Z",
     "shell.execute_reply": "2022-09-14T09:51:00.473494Z"
    },
    "papermill": {
     "duration": 4.474115,
     "end_time": "2022-09-14T09:51:00.476462",
     "exception": false,
     "start_time": "2022-09-14T09:50:56.002347",
     "status": "completed"
    },
    "tags": []
   },
   "outputs": [],
   "source": [
    "prediction_rf=rf1.predict(test_x)"
   ]
  },
  {
   "cell_type": "code",
   "execution_count": 31,
   "id": "8120354f",
   "metadata": {
    "execution": {
     "iopub.execute_input": "2022-09-14T09:51:00.500857Z",
     "iopub.status.busy": "2022-09-14T09:51:00.499995Z",
     "iopub.status.idle": "2022-09-14T09:51:04.994129Z",
     "shell.execute_reply": "2022-09-14T09:51:04.993214Z"
    },
    "papermill": {
     "duration": 4.509063,
     "end_time": "2022-09-14T09:51:04.996553",
     "exception": false,
     "start_time": "2022-09-14T09:51:00.487490",
     "status": "completed"
    },
    "tags": []
   },
   "outputs": [],
   "source": [
    "rf_score=rf1.score(test_x,test_y)*100"
   ]
  },
  {
   "cell_type": "code",
   "execution_count": 32,
   "id": "70ee2cf0",
   "metadata": {
    "execution": {
     "iopub.execute_input": "2022-09-14T09:51:05.021104Z",
     "iopub.status.busy": "2022-09-14T09:51:05.020001Z",
     "iopub.status.idle": "2022-09-14T09:51:05.027089Z",
     "shell.execute_reply": "2022-09-14T09:51:05.026129Z"
    },
    "papermill": {
     "duration": 0.02099,
     "end_time": "2022-09-14T09:51:05.029038",
     "exception": false,
     "start_time": "2022-09-14T09:51:05.008048",
     "status": "completed"
    },
    "tags": []
   },
   "outputs": [
    {
     "data": {
      "text/plain": [
       "99.78252095742192"
      ]
     },
     "execution_count": 32,
     "metadata": {},
     "output_type": "execute_result"
    }
   ],
   "source": [
    "rf_score"
   ]
  },
  {
   "cell_type": "code",
   "execution_count": 33,
   "id": "c749415a",
   "metadata": {
    "execution": {
     "iopub.execute_input": "2022-09-14T09:51:05.052655Z",
     "iopub.status.busy": "2022-09-14T09:51:05.052006Z",
     "iopub.status.idle": "2022-09-14T09:51:05.056259Z",
     "shell.execute_reply": "2022-09-14T09:51:05.055221Z"
    },
    "papermill": {
     "duration": 0.01853,
     "end_time": "2022-09-14T09:51:05.058552",
     "exception": false,
     "start_time": "2022-09-14T09:51:05.040022",
     "status": "completed"
    },
    "tags": []
   },
   "outputs": [],
   "source": [
    "# Importing class and libraries\n",
    "\n",
    "from sklearn.svm import SVC\n",
    "model = SVC()"
   ]
  },
  {
   "cell_type": "code",
   "execution_count": 34,
   "id": "f849c062",
   "metadata": {
    "execution": {
     "iopub.execute_input": "2022-09-14T09:51:05.082384Z",
     "iopub.status.busy": "2022-09-14T09:51:05.081810Z",
     "iopub.status.idle": "2022-09-14T09:56:44.830900Z",
     "shell.execute_reply": "2022-09-14T09:56:44.829578Z"
    },
    "papermill": {
     "duration": 339.772636,
     "end_time": "2022-09-14T09:56:44.842432",
     "exception": false,
     "start_time": "2022-09-14T09:51:05.069796",
     "status": "completed"
    },
    "tags": []
   },
   "outputs": [
    {
     "data": {
      "text/plain": [
       "SVC()"
      ]
     },
     "execution_count": 34,
     "metadata": {},
     "output_type": "execute_result"
    }
   ],
   "source": [
    "# Training the Model\n",
    "\n",
    "model.fit(train_x,train_y)"
   ]
  },
  {
   "cell_type": "code",
   "execution_count": 35,
   "id": "a1cfba7c",
   "metadata": {
    "execution": {
     "iopub.execute_input": "2022-09-14T09:56:44.864706Z",
     "iopub.status.busy": "2022-09-14T09:56:44.864317Z",
     "iopub.status.idle": "2022-09-14T10:04:16.181882Z",
     "shell.execute_reply": "2022-09-14T10:04:16.181008Z"
    },
    "papermill": {
     "duration": 451.341298,
     "end_time": "2022-09-14T10:04:16.193965",
     "exception": false,
     "start_time": "2022-09-14T09:56:44.852667",
     "status": "completed"
    },
    "tags": []
   },
   "outputs": [
    {
     "data": {
      "text/plain": [
       "0.9941399536396408"
      ]
     },
     "execution_count": 35,
     "metadata": {},
     "output_type": "execute_result"
    }
   ],
   "source": [
    "# Accuracy of the model in training\n",
    "\n",
    "model.score(train_x,train_y)"
   ]
  },
  {
   "cell_type": "code",
   "execution_count": 36,
   "id": "f68becb6",
   "metadata": {
    "execution": {
     "iopub.execute_input": "2022-09-14T10:04:16.216851Z",
     "iopub.status.busy": "2022-09-14T10:04:16.216295Z",
     "iopub.status.idle": "2022-09-14T10:11:47.924438Z",
     "shell.execute_reply": "2022-09-14T10:11:47.922784Z"
    },
    "papermill": {
     "duration": 451.72914,
     "end_time": "2022-09-14T10:11:47.933615",
     "exception": false,
     "start_time": "2022-09-14T10:04:16.204475",
     "status": "completed"
    },
    "tags": []
   },
   "outputs": [
    {
     "data": {
      "text/plain": [
       "0.9941399536396408"
      ]
     },
     "execution_count": 36,
     "metadata": {},
     "output_type": "execute_result"
    }
   ],
   "source": [
    "# Accuracy of the model in Testing\n",
    "\n",
    "model.score(train_x,train_y)"
   ]
  },
  {
   "cell_type": "code",
   "execution_count": 37,
   "id": "504fb372",
   "metadata": {
    "execution": {
     "iopub.execute_input": "2022-09-14T10:11:47.957094Z",
     "iopub.status.busy": "2022-09-14T10:11:47.956735Z",
     "iopub.status.idle": "2022-09-14T10:11:47.961246Z",
     "shell.execute_reply": "2022-09-14T10:11:47.960148Z"
    },
    "papermill": {
     "duration": 0.018425,
     "end_time": "2022-09-14T10:11:47.962937",
     "exception": false,
     "start_time": "2022-09-14T10:11:47.944512",
     "status": "completed"
    },
    "tags": []
   },
   "outputs": [],
   "source": [
    "# Importing Libraries and Classes\n",
    "\n",
    "from sklearn import metrics"
   ]
  },
  {
   "cell_type": "code",
   "execution_count": 38,
   "id": "fded56e6",
   "metadata": {
    "execution": {
     "iopub.execute_input": "2022-09-14T10:11:47.988266Z",
     "iopub.status.busy": "2022-09-14T10:11:47.986709Z",
     "iopub.status.idle": "2022-09-14T10:15:04.540228Z",
     "shell.execute_reply": "2022-09-14T10:15:04.538829Z"
    },
    "papermill": {
     "duration": 196.568648,
     "end_time": "2022-09-14T10:15:04.542791",
     "exception": false,
     "start_time": "2022-09-14T10:11:47.974143",
     "status": "completed"
    },
    "tags": []
   },
   "outputs": [],
   "source": [
    "# Y contains all the outputs and X contains all the inputs. We will test on the machine if it gives to expected Output for the \n",
    "# corresponding Inputs.\n",
    "\n",
    "expected = test_y\n",
    "predicted = model.predict(test_x)"
   ]
  },
  {
   "cell_type": "code",
   "execution_count": 39,
   "id": "124d6df1",
   "metadata": {
    "execution": {
     "iopub.execute_input": "2022-09-14T10:15:04.569746Z",
     "iopub.status.busy": "2022-09-14T10:15:04.569292Z",
     "iopub.status.idle": "2022-09-14T10:15:04.904339Z",
     "shell.execute_reply": "2022-09-14T10:15:04.902488Z"
    },
    "papermill": {
     "duration": 0.352037,
     "end_time": "2022-09-14T10:15:04.907042",
     "exception": false,
     "start_time": "2022-09-14T10:15:04.555005",
     "status": "completed"
    },
    "tags": []
   },
   "outputs": [
    {
     "name": "stderr",
     "output_type": "stream",
     "text": [
      "/opt/conda/lib/python3.7/site-packages/sklearn/metrics/_classification.py:1318: UndefinedMetricWarning: Precision and F-score are ill-defined and being set to 0.0 in labels with no predicted samples. Use `zero_division` parameter to control this behavior.\n",
      "  _warn_prf(average, modifier, msg_start, len(result))\n",
      "/opt/conda/lib/python3.7/site-packages/sklearn/metrics/_classification.py:1318: UndefinedMetricWarning: Precision and F-score are ill-defined and being set to 0.0 in labels with no predicted samples. Use `zero_division` parameter to control this behavior.\n",
      "  _warn_prf(average, modifier, msg_start, len(result))\n"
     ]
    },
    {
     "name": "stdout",
     "output_type": "stream",
     "text": [
      "              precision    recall  f1-score   support\n",
      "\n",
      "           0       0.99      1.00      1.00    386816\n",
      "           1       0.00      0.00      0.00      2187\n",
      "\n",
      "    accuracy                           0.99    389003\n",
      "   macro avg       0.50      0.50      0.50    389003\n",
      "weighted avg       0.99      0.99      0.99    389003\n",
      "\n"
     ]
    },
    {
     "name": "stderr",
     "output_type": "stream",
     "text": [
      "/opt/conda/lib/python3.7/site-packages/sklearn/metrics/_classification.py:1318: UndefinedMetricWarning: Precision and F-score are ill-defined and being set to 0.0 in labels with no predicted samples. Use `zero_division` parameter to control this behavior.\n",
      "  _warn_prf(average, modifier, msg_start, len(result))\n"
     ]
    }
   ],
   "source": [
    "# Obtaining Report\n",
    "\n",
    "print(metrics.classification_report(expected, predicted))"
   ]
  },
  {
   "cell_type": "code",
   "execution_count": 40,
   "id": "d3695646",
   "metadata": {
    "execution": {
     "iopub.execute_input": "2022-09-14T10:15:04.933568Z",
     "iopub.status.busy": "2022-09-14T10:15:04.932690Z",
     "iopub.status.idle": "2022-09-14T10:15:04.981091Z",
     "shell.execute_reply": "2022-09-14T10:15:04.979688Z"
    },
    "papermill": {
     "duration": 0.064718,
     "end_time": "2022-09-14T10:15:04.983807",
     "exception": false,
     "start_time": "2022-09-14T10:15:04.919089",
     "status": "completed"
    },
    "tags": []
   },
   "outputs": [
    {
     "name": "stdout",
     "output_type": "stream",
     "text": [
      "[[386816      0]\n",
      " [  2187      0]]\n"
     ]
    }
   ],
   "source": [
    "# Output in the form of count\n",
    "\n",
    "print(metrics.confusion_matrix(expected, predicted))"
   ]
  },
  {
   "cell_type": "code",
   "execution_count": null,
   "id": "61330ea8",
   "metadata": {
    "papermill": {
     "duration": 0.011669,
     "end_time": "2022-09-14T10:15:05.007492",
     "exception": false,
     "start_time": "2022-09-14T10:15:04.995823",
     "status": "completed"
    },
    "tags": []
   },
   "outputs": [],
   "source": []
  }
 ],
 "metadata": {
  "kernelspec": {
   "display_name": "Python 3",
   "language": "python",
   "name": "python3"
  },
  "language_info": {
   "codemirror_mode": {
    "name": "ipython",
    "version": 3
   },
   "file_extension": ".py",
   "mimetype": "text/x-python",
   "name": "python",
   "nbconvert_exporter": "python",
   "pygments_lexer": "ipython3",
   "version": "3.7.12"
  },
  "papermill": {
   "default_parameters": {},
   "duration": 1717.867573,
   "end_time": "2022-09-14T10:15:06.249263",
   "environment_variables": {},
   "exception": null,
   "input_path": "__notebook__.ipynb",
   "output_path": "__notebook__.ipynb",
   "parameters": {},
   "start_time": "2022-09-14T09:46:28.381690",
   "version": "2.3.4"
  }
 },
 "nbformat": 4,
 "nbformat_minor": 5
}
